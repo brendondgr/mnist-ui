{
 "cells": [
  {
   "cell_type": "code",
   "execution_count": 1,
   "metadata": {},
   "outputs": [],
   "source": [
    "import struct\n",
    "import numpy as np\n",
    "import matplotlib.pyplot as plt\n",
    "try:\n",
    "    import intel_extension_for_pytorch as ipex\n",
    "except:\n",
    "    pass\n",
    "from mnist import MNIST\n",
    "# import intel_extension_for_pytorch as ipex\n",
    "import time\n",
    "import tqdm\n",
    "\n",
    "# Dataset\n",
    "from data import DeviceDataset\n",
    "from networks import *\n",
    "\n",
    "# Torch\n",
    "from torch.utils.data import DataLoader\n",
    "import torch\n",
    "import torchvision.models as models\n",
    "import torch.optim as optim\n",
    "import torch.nn as nn\n",
    "\n",
    "# Sci-kit Data Split\n",
    "from sklearn.model_selection import train_test_split"
   ]
  },
  {
   "cell_type": "code",
   "execution_count": 2,
   "metadata": {},
   "outputs": [
    {
     "data": {
      "text/plain": [
       "'cpu'"
      ]
     },
     "execution_count": 2,
     "metadata": {},
     "output_type": "execute_result"
    }
   ],
   "source": [
    "device = \"xpu:0\" if torch.xpu.is_available() else \"cpu\"\n",
    "device"
   ]
  },
  {
   "cell_type": "code",
   "execution_count": 3,
   "metadata": {},
   "outputs": [],
   "source": [
    "data = MNIST('data')\n",
    "\n",
    "images, labels = data.load_testing()"
   ]
  },
  {
   "cell_type": "code",
   "execution_count": 4,
   "metadata": {},
   "outputs": [],
   "source": [
    "def image_prep(images):\n",
    "    images = np.array(images)\n",
    "    images = images.reshape(-1, 28, 28).astype(np.float32)\n",
    "    images = images / 255.0\n",
    "    images[images > 0] = 1\n",
    "    images = np.expand_dims(images, axis=1)\n",
    "    return images"
   ]
  },
  {
   "cell_type": "code",
   "execution_count": 5,
   "metadata": {},
   "outputs": [
    {
     "name": "stdout",
     "output_type": "stream",
     "text": [
      "(1, 28, 28)\n",
      "7\n"
     ]
    }
   ],
   "source": [
    "# Send images to image_prep function\n",
    "images = image_prep(images)\n",
    "\n",
    "# Plot Image 1\n",
    "print(images[0].shape)\n",
    "print(labels[0])\n",
    "# plt.imshow(images[0], cmap='gray')"
   ]
  },
  {
   "cell_type": "code",
   "execution_count": 6,
   "metadata": {},
   "outputs": [],
   "source": [
    "# Split the Data into training and temporary sets\n",
    "random_val = 10\n",
    "X_train, X_temp, y_train, y_temp = train_test_split(images, labels, test_size=0.3, random_state=random_val)\n",
    "\n",
    "# Split the temporary set into validation and test sets\n",
    "X_val, X_test, y_val, y_test = train_test_split(X_temp, y_temp, test_size=0.5, random_state=random_val)\n",
    "\n",
    "# Load Data into Train, Validation, and Test Datasets\n",
    "train_dataset = DeviceDataset(X_train, y_train, device)\n",
    "val_dataset = DeviceDataset(X_val, y_val, device)\n",
    "test_dataset = DeviceDataset(X_test, y_test, device)"
   ]
  },
  {
   "cell_type": "code",
   "execution_count": 7,
   "metadata": {},
   "outputs": [],
   "source": [
    "# Send to DataLoader\n",
    "batch = 512\n",
    "train_loader = DataLoader(train_dataset, batch_size=batch, shuffle=True)\n",
    "val_loader = DataLoader(val_dataset, batch_size=batch, shuffle=True)\n",
    "test_loader = DataLoader(test_dataset, batch_size=batch, shuffle=True)"
   ]
  },
  {
   "cell_type": "code",
   "execution_count": 8,
   "metadata": {},
   "outputs": [
    {
     "data": {
      "text/plain": [
       "Text(0.5, 1.0, '6')"
      ]
     },
     "execution_count": 8,
     "metadata": {},
     "output_type": "execute_result"
    },
    {
     "data": {
      "image/png": "[encoded data removed]",
      "text/plain": [
       "<Figure size 640x480 with 1 Axes>"
      ]
     },
     "metadata": {},
     "output_type": "display_data"
    }
   ],
   "source": [
    "import random\n",
    "ran_num = random.randint(0, len(train_loader))\n",
    "\n",
    "# Show a Random Image from the Training Set with its label\n",
    "plt.imshow(X_train[ran_num][0], cmap='gray')\n",
    "plt.title(y_train[ran_num])"
   ]
  },
  {
   "cell_type": "code",
   "execution_count": 9,
   "metadata": {},
   "outputs": [],
   "source": [
    "#######################################################\n",
    "# VARIABLES\n",
    "epochs = 50\n",
    "learn = 0.01\n",
    "\n",
    "dropoff_1 = 0.7\n",
    "dropoff_2 = 0.5\n",
    "dropoff_3 = 0.1\n",
    "dropoff_4 = 0.1\n",
    "\n",
    "debug=False\n",
    "#######################################################"
   ]
  },
  {
   "cell_type": "code",
   "execution_count": 10,
   "metadata": {},
   "outputs": [],
   "source": [
    "# Model, ResNet50\n",
    "model = SimpleModel().to(device)\n",
    "\n",
    "# Criterion, CrossEntropyLoss\n",
    "criterion = nn.CrossEntropyLoss().to(device)\n",
    "\n",
    "# Optimizer, SGDSGD...\n",
    "optimizer = optim.SGD(model.parameters(), lr=learn)"
   ]
  },
  {
   "cell_type": "code",
   "execution_count": 11,
   "metadata": {},
   "outputs": [
    {
     "name": "stdout",
     "output_type": "stream",
     "text": [
      "Total trainable parameters: 7008\n"
     ]
    }
   ],
   "source": [
    "# Calculate total number of parameters\n",
    "total_params = sum(p.numel() for p in model.parameters() if p.requires_grad)\n",
    "\n",
    "print(f\"Total trainable parameters: {total_params}\")"
   ]
  },
  {
   "cell_type": "code",
   "execution_count": 12,
   "metadata": {},
   "outputs": [
    {
     "name": "stdout",
     "output_type": "stream",
     "text": [
      "Input: torch.Size([512, 1, 28, 28])\n",
      "Conv1: torch.Size([512, 25, 30, 30])\n",
      "Pool1: torch.Size([512, 25, 15, 15])\n",
      "Conv2: torch.Size([512, 3, 13, 13])\n",
      "View: torch.Size([512, 507])\n",
      "Linear: torch.Size([512, 10])\n",
      "Epoch: 1, Loss: 2.306, Accuracy: 9.133 [137/1500]\n",
      "Epoch: 2, Loss: 2.299, Accuracy: 12.200 [183/1500]\n",
      "Epoch: 3, Loss: 2.289, Accuracy: 17.200 [258/1500]\n",
      "Epoch: 4, Loss: 2.271, Accuracy: 22.800 [342/1500]\n",
      "Epoch: 5, Loss: 2.237, Accuracy: 28.733 [431/1500]\n",
      "Epoch: 6, Loss: 2.165, Accuracy: 34.133 [512/1500]\n",
      "Epoch: 7, Loss: 2.029, Accuracy: 51.467 [772/1500]\n",
      "Epoch: 8, Loss: 1.809, Accuracy: 61.000 [915/1500]\n",
      "Epoch: 9, Loss: 1.533, Accuracy: 66.667 [1000/1500]\n",
      "Epoch: 10, Loss: 1.270, Accuracy: 71.067 [1066/1500]\n",
      "Epoch: 11, Loss: 1.068, Accuracy: 70.200 [1053/1500]\n",
      "Epoch: 12, Loss: 0.930, Accuracy: 74.267 [1114/1500]\n",
      "Epoch: 13, Loss: 0.831, Accuracy: 74.933 [1124/1500]\n",
      "Epoch: 14, Loss: 0.779, Accuracy: 75.333 [1130/1500]\n",
      "Epoch: 15, Loss: 0.720, Accuracy: 77.800 [1167/1500]\n",
      "Epoch: 16, Loss: 0.674, Accuracy: 78.733 [1181/1500]\n",
      "Epoch: 17, Loss: 0.633, Accuracy: 79.733 [1196/1500]\n",
      "Epoch: 18, Loss: 0.613, Accuracy: 80.667 [1210/1500]\n",
      "Epoch: 19, Loss: 0.593, Accuracy: 78.800 [1182/1500]\n",
      "Epoch: 20, Loss: 0.586, Accuracy: 81.533 [1223/1500]\n",
      "Epoch: 21, Loss: 0.565, Accuracy: 82.000 [1230/1500]\n",
      "Epoch: 22, Loss: 0.558, Accuracy: 81.400 [1221/1500]\n",
      "Epoch: 23, Loss: 0.521, Accuracy: 81.733 [1226/1500]\n",
      "Epoch: 24, Loss: 0.530, Accuracy: 79.333 [1190/1500]\n",
      "Epoch: 25, Loss: 0.527, Accuracy: 81.400 [1221/1500]\n",
      "Epoch: 26, Loss: 0.506, Accuracy: 83.000 [1245/1500]\n",
      "Epoch: 27, Loss: 0.493, Accuracy: 84.400 [1266/1500]\n",
      "Epoch: 28, Loss: 0.482, Accuracy: 82.467 [1237/1500]\n",
      "Epoch: 29, Loss: 0.467, Accuracy: 84.733 [1271/1500]\n",
      "Epoch: 30, Loss: 0.479, Accuracy: 80.667 [1210/1500]\n",
      "Epoch: 31, Loss: 0.461, Accuracy: 85.067 [1276/1500]\n",
      "Epoch: 32, Loss: 0.462, Accuracy: 84.933 [1274/1500]\n",
      "Epoch: 33, Loss: 0.467, Accuracy: 85.200 [1278/1500]\n",
      "Epoch: 34, Loss: 0.442, Accuracy: 85.000 [1275/1500]\n",
      "Epoch: 35, Loss: 0.443, Accuracy: 85.733 [1286/1500]\n",
      "Epoch: 36, Loss: 0.433, Accuracy: 84.933 [1274/1500]\n",
      "Epoch: 37, Loss: 0.431, Accuracy: 85.800 [1287/1500]\n",
      "Epoch: 38, Loss: 0.423, Accuracy: 85.333 [1280/1500]\n",
      "Epoch: 39, Loss: 0.434, Accuracy: 86.400 [1296/1500]\n",
      "Epoch: 40, Loss: 0.418, Accuracy: 85.133 [1277/1500]\n",
      "Epoch: 41, Loss: 0.409, Accuracy: 86.000 [1290/1500]\n",
      "Epoch: 42, Loss: 0.408, Accuracy: 87.333 [1310/1500]\n",
      "Epoch: 43, Loss: 0.410, Accuracy: 86.667 [1300/1500]\n",
      "Epoch: 44, Loss: 0.400, Accuracy: 86.267 [1294/1500]\n",
      "Epoch: 45, Loss: 0.396, Accuracy: 87.133 [1307/1500]\n",
      "Epoch: 46, Loss: 0.402, Accuracy: 85.333 [1280/1500]\n",
      "Epoch: 47, Loss: 0.394, Accuracy: 87.867 [1318/1500]\n",
      "Epoch: 48, Loss: 0.396, Accuracy: 87.467 [1312/1500]\n",
      "Epoch: 49, Loss: 0.392, Accuracy: 87.133 [1307/1500]\n",
      "Epoch: 50, Loss: 0.389, Accuracy: 87.467 [1312/1500]\n"
     ]
    }
   ],
   "source": [
    "highest_acc = 0.0\n",
    "\n",
    "for epoch in range(epochs):\n",
    "    model.train()\n",
    "    running_loss = 0.0\n",
    "    for i, data in enumerate(train_loader):\n",
    "        inputs, labels = data\n",
    "        optimizer.zero_grad()\n",
    "        outputs = model(inputs)\n",
    "        loss = criterion(outputs, labels)\n",
    "        loss.backward()\n",
    "        optimizer.step()\n",
    "        running_loss += loss.item()\n",
    "\n",
    "    if (epoch+1) % 1 == 0:\n",
    "        # Validation\n",
    "        model.eval()\n",
    "        correct = 0\n",
    "        total = 0\n",
    "        with torch.no_grad():\n",
    "            for data in val_loader:\n",
    "                images, labels = data\n",
    "                outputs = model(images)\n",
    "                _, predicted = torch.max(outputs.data, 1)\n",
    "                total += labels.size(0)\n",
    "                correct += (predicted == labels).sum().item()\n",
    "\n",
    "    if (epoch+1) % 1 == 0:\n",
    "        print(f\"Epoch: {epoch+1}, Loss: {(running_loss/len(train_loader)):.3f}, Accuracy: {(100 * correct / total):.3f} [{correct}/{total}]\")\n",
    "        if (100 * correct / total) > highest_acc:\n",
    "            highest_acc = (100 * correct / total)\n",
    "            # torch.save(model.state_dict(), \"best_model.pth\")"
   ]
  },
  {
   "cell_type": "code",
   "execution_count": 13,
   "metadata": {},
   "outputs": [],
   "source": [
    "# Save the Model to model/ folder, with name based on parameters used\n",
    "model_name = f\"SimpleCNN_{float(highest_acc):.3f}_{total_params}.pth\"\n",
    "\n",
    "# Check to see if models/ folder exists\n",
    "import os\n",
    "if not os.path.exists('models'):\n",
    "    os.makedirs('models')\n",
    "\n",
    "# Save the model\n",
    "model.cpu()\n",
    "torch.save(model.state_dict(), f'models/{model_name}')"
   ]
  },
  {
   "cell_type": "markdown",
   "metadata": {},
   "source": [
    "Matrix Test"
   ]
  },
  {
   "cell_type": "code",
   "execution_count": 14,
   "metadata": {},
   "outputs": [
    {
     "name": "stdout",
     "output_type": "stream",
     "text": [
      "(10, 15, 20)\n",
      "(10, 20, 30)\n",
      "\n",
      "(10, 15, 30)\n"
     ]
    }
   ],
   "source": [
    "# 2 numpy arrays with zeros. custom dimensions\n",
    "x = np.zeros((10, 15, 20))\n",
    "print(x.shape)\n",
    "\n",
    "y = np.zeros((10, 20, 30))\n",
    "print(y.shape)\n",
    "\n",
    "# Matrix Multiply\n",
    "z = np.matmul(x, y)\n",
    "print(f'\\n{z.shape}')"
   ]
  },
  {
   "cell_type": "code",
   "execution_count": 15,
   "metadata": {},
   "outputs": [
    {
     "name": "stdout",
     "output_type": "stream",
     "text": [
      "(10, 3, 15, 20)\n",
      "(10, 3, 20, 30)\n",
      "\n",
      "(10, 3, 15, 30)\n"
     ]
    }
   ],
   "source": [
    "# 2 Numpy 4D Arrays\n",
    "x = np.zeros((10, 3, 15, 20))\n",
    "print(x.shape)\n",
    "\n",
    "y = np.zeros((10, 3, 20, 30))\n",
    "print(y.shape)\n",
    "\n",
    "# Matrix Multiply\n",
    "z = np.matmul(x, y)\n",
    "print(f'\\n{z.shape}')"
   ]
  }
 ],
 "metadata": {
  "kernelspec": {
   "display_name": "pytorch_cpu",
   "language": "python",
   "name": "python3"
  },
  "language_info": {
   "codemirror_mode": {
    "name": "ipython",
    "version": 3
   },
   "file_extension": ".py",
   "mimetype": "text/x-python",
   "name": "python",
   "nbconvert_exporter": "python",
   "pygments_lexer": "ipython3",
   "version": "3.10.15"
  }
 },
 "nbformat": 4,
 "nbformat_minor": 2
}
