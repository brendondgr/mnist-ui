{
 "cells": [
  {
   "cell_type": "code",
   "execution_count": 1,
   "metadata": {},
   "outputs": [],
   "source": [
    "from dataset import CustomDataset\n",
    "from architectures import Model_1_Trainer, Model_2_Trainer\n",
    "from torch.utils.data import DataLoader"
   ]
  },
  {
   "cell_type": "code",
   "execution_count": 2,
   "metadata": {},
   "outputs": [],
   "source": [
    "# Dataset Locations\n",
    "train_data = \"../data/train-images.idx3-ubyte\"\n",
    "train_label = \"../data/train-labels.idx1-ubyte\"\n",
    "\n",
    "test_data = \"../data/t10k-images.idx3-ubyte\"\n",
    "test_label = \"../data/t10k-labels.idx1-ubyte\"\n",
    "\n",
    "# Model Save Location\n",
    "model_save = \"../models\""
   ]
  },
  {
   "cell_type": "code",
   "execution_count": null,
   "metadata": {},
   "outputs": [],
   "source": []
  },
  {
   "cell_type": "code",
   "execution_count": 3,
   "metadata": {},
   "outputs": [],
   "source": [
    "# Dataset\n",
    "train_dataset = CustomDataset(train_data, train_label)\n",
    "test_dataset = CustomDataset(test_data, test_label)\n",
    "\n",
    "# Variables\n",
    "batch_size = 256\n",
    "epochs = 10\n",
    "lr = 0.001\n",
    "\n",
    "# Pass Into Model_1_Trainer\n",
    "model_1 = Model_1_Trainer(train_dataset, test_dataset, batch_size=batch_size, epochs=epochs, loss=lr, num_workers=4)\n",
    "# model_2 = Model_2_Trainer(train_dataset, test_dataset, batch_size=batch_size, epochs=epochs, loss=lr, num_workers=4)"
   ]
  },
  {
   "cell_type": "code",
   "execution_count": 4,
   "metadata": {},
   "outputs": [
    {
     "name": "stderr",
     "output_type": "stream",
     "text": [
      "Epoch 1/10 [Previous Loss: N/A]:   3%|▎         | 7/235 [00:00<00:08, 27.62it/s]"
     ]
    },
    {
     "name": "stdout",
     "output_type": "stream",
     "text": [
      "Mismatch found in epoch 1\n",
      "Mismatch found in epoch 1\n",
      "Mismatch found in epoch 1\n",
      "Mismatch found in epoch 1\n",
      "Mismatch found in epoch 1\n",
      "Mismatch found in epoch 1\n",
      "Mismatch found in epoch 1\n",
      "Mismatch found in epoch 1\n",
      "Mismatch found in epoch 1\n",
      "Mismatch found in epoch 1\n",
      "Mismatch found in epoch 1\n",
      "Mismatch found in epoch 1\n",
      "Mismatch found in epoch 1\n",
      "Mismatch found in epoch 1\n"
     ]
    },
    {
     "name": "stderr",
     "output_type": "stream",
     "text": [
      "Epoch 1/10 [Previous Loss: N/A]:   9%|▉         | 22/235 [00:00<00:04, 52.43it/s]"
     ]
    },
    {
     "name": "stdout",
     "output_type": "stream",
     "text": [
      "Mismatch found in epoch 1\n",
      "Mismatch found in epoch 1\n",
      "Mismatch found in epoch 1\n",
      "Mismatch found in epoch 1\n",
      "Mismatch found in epoch 1\n",
      "Mismatch found in epoch 1\n",
      "Mismatch found in epoch 1\n",
      "Mismatch found in epoch 1\n",
      "Mismatch found in epoch 1\n",
      "Mismatch found in epoch 1\n",
      "Mismatch found in epoch 1\n",
      "Mismatch found in epoch 1\n",
      "Mismatch found in epoch 1\n",
      "Mismatch found in epoch 1\n"
     ]
    },
    {
     "name": "stderr",
     "output_type": "stream",
     "text": [
      "Epoch 1/10 [Previous Loss: N/A]:  16%|█▌        | 37/235 [00:00<00:03, 58.92it/s]"
     ]
    },
    {
     "name": "stdout",
     "output_type": "stream",
     "text": [
      "Mismatch found in epoch 1\n",
      "Mismatch found in epoch 1\n",
      "Mismatch found in epoch 1\n",
      "Mismatch found in epoch 1\n",
      "Mismatch found in epoch 1\n",
      "Mismatch found in epoch 1\n",
      "Mismatch found in epoch 1\n",
      "Mismatch found in epoch 1\n",
      "Mismatch found in epoch 1\n",
      "Mismatch found in epoch 1\n",
      "Mismatch found in epoch 1\n",
      "Mismatch found in epoch 1\n",
      "Mismatch found in epoch 1\n"
     ]
    },
    {
     "name": "stderr",
     "output_type": "stream",
     "text": [
      "Epoch 1/10 [Previous Loss: N/A]:  21%|██▏       | 50/235 [00:00<00:03, 57.01it/s]"
     ]
    },
    {
     "name": "stdout",
     "output_type": "stream",
     "text": [
      "Mismatch found in epoch 1\n",
      "Mismatch found in epoch 1\n",
      "Mismatch found in epoch 1\n",
      "Mismatch found in epoch 1\n",
      "Mismatch found in epoch 1\n",
      "Mismatch found in epoch 1\n",
      "Mismatch found in epoch 1\n",
      "Mismatch found in epoch 1\n",
      "Mismatch found in epoch 1\n",
      "Mismatch found in epoch 1\n",
      "Mismatch found in epoch 1\n"
     ]
    },
    {
     "name": "stderr",
     "output_type": "stream",
     "text": [
      "Epoch 1/10 [Previous Loss: N/A]:  27%|██▋       | 63/235 [00:01<00:02, 60.28it/s]"
     ]
    },
    {
     "name": "stdout",
     "output_type": "stream",
     "text": [
      "Mismatch found in epoch 1\n",
      "Mismatch found in epoch 1\n",
      "Mismatch found in epoch 1\n",
      "Mismatch found in epoch 1\n",
      "Mismatch found in epoch 1\n",
      "Mismatch found in epoch 1\n",
      "Mismatch found in epoch 1\n",
      "Mismatch found in epoch 1\n",
      "Mismatch found in epoch 1\n",
      "Mismatch found in epoch 1\n",
      "Mismatch found in epoch 1\n",
      "Mismatch found in epoch 1\n",
      "Mismatch found in epoch 1\n"
     ]
    },
    {
     "name": "stderr",
     "output_type": "stream",
     "text": [
      "Epoch 1/10 [Previous Loss: N/A]:  33%|███▎      | 77/235 [00:01<00:02, 58.76it/s]"
     ]
    },
    {
     "name": "stdout",
     "output_type": "stream",
     "text": [
      "Mismatch found in epoch 1\n",
      "Mismatch found in epoch 1\n",
      "Mismatch found in epoch 1\n",
      "Mismatch found in epoch 1\n",
      "Mismatch found in epoch 1\n",
      "Mismatch found in epoch 1\n",
      "Mismatch found in epoch 1\n",
      "Mismatch found in epoch 1\n",
      "Mismatch found in epoch 1\n",
      "Mismatch found in epoch 1\n",
      "Mismatch found in epoch 1\n",
      "Mismatch found in epoch 1\n"
     ]
    },
    {
     "name": "stderr",
     "output_type": "stream",
     "text": [
      "Epoch 1/10 [Previous Loss: N/A]:  38%|███▊      | 89/235 [00:01<00:02, 57.83it/s]"
     ]
    },
    {
     "name": "stdout",
     "output_type": "stream",
     "text": [
      "Mismatch found in epoch 1\n",
      "Mismatch found in epoch 1\n",
      "Mismatch found in epoch 1\n",
      "Mismatch found in epoch 1\n",
      "Mismatch found in epoch 1\n",
      "Mismatch found in epoch 1\n",
      "Mismatch found in epoch 1\n",
      "Mismatch found in epoch 1\n",
      "Mismatch found in epoch 1\n",
      "Mismatch found in epoch 1\n",
      "Mismatch found in epoch 1\n",
      "Mismatch found in epoch 1\n"
     ]
    },
    {
     "name": "stderr",
     "output_type": "stream",
     "text": [
      "Epoch 1/10 [Previous Loss: N/A]:  43%|████▎     | 102/235 [00:01<00:02, 58.39it/s]"
     ]
    },
    {
     "name": "stdout",
     "output_type": "stream",
     "text": [
      "Mismatch found in epoch 1\n",
      "Mismatch found in epoch 1\n",
      "Mismatch found in epoch 1\n",
      "Mismatch found in epoch 1\n",
      "Mismatch found in epoch 1\n",
      "Mismatch found in epoch 1\n",
      "Mismatch found in epoch 1\n",
      "Mismatch found in epoch 1\n",
      "Mismatch found in epoch 1\n",
      "Mismatch found in epoch 1\n",
      "Mismatch found in epoch 1\n",
      "Mismatch found in epoch 1\n",
      "Mismatch found in epoch 1\n"
     ]
    },
    {
     "name": "stderr",
     "output_type": "stream",
     "text": [
      "Epoch 1/10 [Previous Loss: N/A]:  46%|████▌     | 108/235 [00:01<00:02, 55.32it/s]"
     ]
    },
    {
     "name": "stdout",
     "output_type": "stream",
     "text": [
      "Mismatch found in epoch 1\n",
      "Mismatch found in epoch 1\n",
      "Mismatch found in epoch 1\n",
      "Mismatch found in epoch 1\n",
      "Mismatch found in epoch 1\n",
      "Mismatch found in epoch 1\n",
      "Mismatch found in epoch 1\n",
      "Mismatch found in epoch 1\n",
      "Mismatch found in epoch 1\n"
     ]
    },
    {
     "name": "stderr",
     "output_type": "stream",
     "text": [
      "Epoch 1/10 [Previous Loss: N/A]:  51%|█████     | 120/235 [00:02<00:02, 52.01it/s]"
     ]
    },
    {
     "name": "stdout",
     "output_type": "stream",
     "text": [
      "Mismatch found in epoch 1\n",
      "Mismatch found in epoch 1\n",
      "Mismatch found in epoch 1\n",
      "Mismatch found in epoch 1\n",
      "Mismatch found in epoch 1\n",
      "Mismatch found in epoch 1\n",
      "Mismatch found in epoch 1\n",
      "Mismatch found in epoch 1\n",
      "Mismatch found in epoch 1\n",
      "Mismatch found in epoch 1\n",
      "Mismatch found in epoch 1\n"
     ]
    },
    {
     "name": "stderr",
     "output_type": "stream",
     "text": [
      "Epoch 1/10 [Previous Loss: N/A]:  57%|█████▋    | 133/235 [00:02<00:01, 54.72it/s]"
     ]
    },
    {
     "name": "stdout",
     "output_type": "stream",
     "text": [
      "Mismatch found in epoch 1\n",
      "Mismatch found in epoch 1\n",
      "Mismatch found in epoch 1\n",
      "Mismatch found in epoch 1\n",
      "Mismatch found in epoch 1\n",
      "Mismatch found in epoch 1\n",
      "Mismatch found in epoch 1\n",
      "Mismatch found in epoch 1\n",
      "Mismatch found in epoch 1\n",
      "Mismatch found in epoch 1\n",
      "Mismatch found in epoch 1\n",
      "Mismatch found in epoch 1\n"
     ]
    },
    {
     "name": "stderr",
     "output_type": "stream",
     "text": [
      "Epoch 1/10 [Previous Loss: N/A]:  62%|██████▏   | 145/235 [00:02<00:01, 56.15it/s]"
     ]
    },
    {
     "name": "stdout",
     "output_type": "stream",
     "text": [
      "Mismatch found in epoch 1\n",
      "Mismatch found in epoch 1\n",
      "Mismatch found in epoch 1\n",
      "Mismatch found in epoch 1\n",
      "Mismatch found in epoch 1\n",
      "Mismatch found in epoch 1\n",
      "Mismatch found in epoch 1\n",
      "Mismatch found in epoch 1\n",
      "Mismatch found in epoch 1\n",
      "Mismatch found in epoch 1\n",
      "Mismatch found in epoch 1\n",
      "Mismatch found in epoch 1\n"
     ]
    },
    {
     "name": "stderr",
     "output_type": "stream",
     "text": [
      "Epoch 1/10 [Previous Loss: N/A]:  68%|██████▊   | 160/235 [00:02<00:01, 61.12it/s]"
     ]
    },
    {
     "name": "stdout",
     "output_type": "stream",
     "text": [
      "Mismatch found in epoch 1\n",
      "Mismatch found in epoch 1\n",
      "Mismatch found in epoch 1\n",
      "Mismatch found in epoch 1\n",
      "Mismatch found in epoch 1\n",
      "Mismatch found in epoch 1\n",
      "Mismatch found in epoch 1\n",
      "Mismatch found in epoch 1\n",
      "Mismatch found in epoch 1\n",
      "Mismatch found in epoch 1\n",
      "Mismatch found in epoch 1\n",
      "Mismatch found in epoch 1\n",
      "Mismatch found in epoch 1\n",
      "Mismatch found in epoch 1\n"
     ]
    },
    {
     "name": "stderr",
     "output_type": "stream",
     "text": [
      "Epoch 1/10 [Previous Loss: N/A]:  74%|███████▍  | 174/235 [00:03<00:00, 63.49it/s]"
     ]
    },
    {
     "name": "stdout",
     "output_type": "stream",
     "text": [
      "Mismatch found in epoch 1\n",
      "Mismatch found in epoch 1\n",
      "Mismatch found in epoch 1\n",
      "Mismatch found in epoch 1\n",
      "Mismatch found in epoch 1\n",
      "Mismatch found in epoch 1\n",
      "Mismatch found in epoch 1\n",
      "Mismatch found in epoch 1\n",
      "Mismatch found in epoch 1\n",
      "Mismatch found in epoch 1\n",
      "Mismatch found in epoch 1\n",
      "Mismatch found in epoch 1\n",
      "Mismatch found in epoch 1\n",
      "Mismatch found in epoch 1\n"
     ]
    },
    {
     "name": "stderr",
     "output_type": "stream",
     "text": [
      "Epoch 1/10 [Previous Loss: N/A]:  77%|███████▋  | 181/235 [00:03<00:00, 61.96it/s]"
     ]
    },
    {
     "name": "stdout",
     "output_type": "stream",
     "text": [
      "Mismatch found in epoch 1\n",
      "Mismatch found in epoch 1\n",
      "Mismatch found in epoch 1\n",
      "Mismatch found in epoch 1\n",
      "Mismatch found in epoch 1\n",
      "Mismatch found in epoch 1\n",
      "Mismatch found in epoch 1\n",
      "Mismatch found in epoch 1\n",
      "Mismatch found in epoch 1\n",
      "Mismatch found in epoch 1\n",
      "Mismatch found in epoch 1\n",
      "Mismatch found in epoch 1\n"
     ]
    },
    {
     "name": "stderr",
     "output_type": "stream",
     "text": [
      "Epoch 1/10 [Previous Loss: N/A]:  83%|████████▎ | 194/235 [00:03<00:00, 58.04it/s]"
     ]
    },
    {
     "name": "stdout",
     "output_type": "stream",
     "text": [
      "Mismatch found in epoch 1\n",
      "Mismatch found in epoch 1\n",
      "Mismatch found in epoch 1\n",
      "Mismatch found in epoch 1\n",
      "Mismatch found in epoch 1\n",
      "Mismatch found in epoch 1\n",
      "Mismatch found in epoch 1\n",
      "Mismatch found in epoch 1\n",
      "Mismatch found in epoch 1\n",
      "Mismatch found in epoch 1\n",
      "Mismatch found in epoch 1\n",
      "Mismatch found in epoch 1\n"
     ]
    },
    {
     "name": "stderr",
     "output_type": "stream",
     "text": [
      "Epoch 1/10 [Previous Loss: N/A]:  86%|████████▌ | 201/235 [00:03<00:00, 59.79it/s]"
     ]
    },
    {
     "name": "stdout",
     "output_type": "stream",
     "text": [
      "Mismatch found in epoch 1\n",
      "Mismatch found in epoch 1\n",
      "Mismatch found in epoch 1\n",
      "Mismatch found in epoch 1\n",
      "Mismatch found in epoch 1\n",
      "Mismatch found in epoch 1\n",
      "Mismatch found in epoch 1\n",
      "Mismatch found in epoch 1\n"
     ]
    },
    {
     "name": "stderr",
     "output_type": "stream",
     "text": [
      "Epoch 1/10 [Previous Loss: N/A]:  91%|█████████ | 214/235 [00:03<00:00, 52.10it/s]"
     ]
    },
    {
     "name": "stdout",
     "output_type": "stream",
     "text": [
      "Mismatch found in epoch 1\n",
      "Mismatch found in epoch 1\n",
      "Mismatch found in epoch 1\n",
      "Mismatch found in epoch 1\n",
      "Mismatch found in epoch 1\n",
      "Mismatch found in epoch 1\n",
      "Mismatch found in epoch 1\n",
      "Mismatch found in epoch 1\n",
      "Mismatch found in epoch 1\n",
      "Mismatch found in epoch 1\n",
      "Mismatch found in epoch 1\n",
      "Mismatch found in epoch 1\n",
      "Mismatch found in epoch 1\n"
     ]
    },
    {
     "name": "stderr",
     "output_type": "stream",
     "text": [
      "Epoch 1/10 [Previous Loss: N/A]:  97%|█████████▋| 227/235 [00:04<00:00, 55.97it/s]"
     ]
    },
    {
     "name": "stdout",
     "output_type": "stream",
     "text": [
      "Mismatch found in epoch 1\n",
      "Mismatch found in epoch 1\n",
      "Mismatch found in epoch 1\n",
      "Mismatch found in epoch 1\n",
      "Mismatch found in epoch 1\n",
      "Mismatch found in epoch 1\n",
      "Mismatch found in epoch 1\n",
      "Mismatch found in epoch 1\n",
      "Mismatch found in epoch 1\n",
      "Mismatch found in epoch 1\n",
      "Mismatch found in epoch 1\n",
      "Mismatch found in epoch 1\n",
      "Mismatch found in epoch 1\n"
     ]
    },
    {
     "name": "stderr",
     "output_type": "stream",
     "text": [
      "Epoch 1/10 [Previous Loss: N/A]: 100%|██████████| 235/235 [00:04<00:00, 55.31it/s]\n"
     ]
    },
    {
     "name": "stdout",
     "output_type": "stream",
     "text": [
      "Mismatch found in epoch 1\n",
      "Mismatch found in epoch 1\n",
      "Mismatch found in epoch 1\n"
     ]
    },
    {
     "name": "stderr",
     "output_type": "stream",
     "text": [
      "Epoch 2/10 [Previous Loss: 2.3060]:   0%|          | 1/235 [00:00<00:23,  9.77it/s]"
     ]
    },
    {
     "name": "stdout",
     "output_type": "stream",
     "text": [
      "Mismatch found in epoch 2\n",
      "Mismatch found in epoch 2\n"
     ]
    },
    {
     "name": "stderr",
     "output_type": "stream",
     "text": [
      "Epoch 2/10 [Previous Loss: 2.3060]:   3%|▎         | 8/235 [00:00<00:05, 42.19it/s]"
     ]
    },
    {
     "name": "stdout",
     "output_type": "stream",
     "text": [
      "Mismatch found in epoch 2\n",
      "Mismatch found in epoch 2\n",
      "Mismatch found in epoch 2\n",
      "Mismatch found in epoch 2\n",
      "Mismatch found in epoch 2\n",
      "Mismatch found in epoch 2\n",
      "Mismatch found in epoch 2\n",
      "Mismatch found in epoch 2\n",
      "Mismatch found in epoch 2\n",
      "Mismatch found in epoch 2\n"
     ]
    },
    {
     "name": "stderr",
     "output_type": "stream",
     "text": [
      "Epoch 2/10 [Previous Loss: 2.3060]:   6%|▌         | 14/235 [00:00<00:04, 47.89it/s]"
     ]
    },
    {
     "name": "stdout",
     "output_type": "stream",
     "text": [
      "Mismatch found in epoch 2\n",
      "Mismatch found in epoch 2\n"
     ]
    },
    {
     "name": "stderr",
     "output_type": "stream",
     "text": [
      "Epoch 2/10 [Previous Loss: 2.3060]:   9%|▊         | 20/235 [00:00<00:04, 51.80it/s]"
     ]
    },
    {
     "name": "stdout",
     "output_type": "stream",
     "text": [
      "Mismatch found in epoch 2\n",
      "Mismatch found in epoch 2\n",
      "Mismatch found in epoch 2\n",
      "Mismatch found in epoch 2\n",
      "Mismatch found in epoch 2\n",
      "Mismatch found in epoch 2\n",
      "Mismatch found in epoch 2\n",
      "Mismatch found in epoch 2\n",
      "Mismatch found in epoch 2\n",
      "Mismatch found in epoch 2\n",
      "Mismatch found in epoch 2\n",
      "Mismatch found in epoch 2\n"
     ]
    },
    {
     "name": "stderr",
     "output_type": "stream",
     "text": [
      "Epoch 2/10 [Previous Loss: 2.3060]:  12%|█▏        | 28/235 [00:00<00:03, 61.52it/s]"
     ]
    },
    {
     "name": "stdout",
     "output_type": "stream",
     "text": [
      "Mismatch found in epoch 2\n",
      "Mismatch found in epoch 2\n",
      "Mismatch found in epoch 2\n"
     ]
    },
    {
     "name": "stderr",
     "output_type": "stream",
     "text": [
      "Epoch 2/10 [Previous Loss: 2.3060]:  15%|█▍        | 35/235 [00:00<00:03, 59.99it/s]"
     ]
    },
    {
     "name": "stdout",
     "output_type": "stream",
     "text": [
      "Mismatch found in epoch 2\n",
      "Mismatch found in epoch 2\n",
      "Mismatch found in epoch 2\n",
      "Mismatch found in epoch 2\n",
      "Mismatch found in epoch 2\n",
      "Mismatch found in epoch 2\n",
      "Mismatch found in epoch 2\n",
      "Mismatch found in epoch 2\n",
      "Mismatch found in epoch 2\n",
      "Mismatch found in epoch 2\n",
      "Mismatch found in epoch 2\n"
     ]
    },
    {
     "name": "stderr",
     "output_type": "stream",
     "text": [
      "Epoch 2/10 [Previous Loss: 2.3060]:  18%|█▊        | 42/235 [00:00<00:03, 54.13it/s]"
     ]
    },
    {
     "name": "stdout",
     "output_type": "stream",
     "text": [
      "Mismatch found in epoch 2\n",
      "Mismatch found in epoch 2\n",
      "Mismatch found in epoch 2\n",
      "Mismatch found in epoch 2\n",
      "Mismatch found in epoch 2\n",
      "Mismatch found in epoch 2\n"
     ]
    },
    {
     "name": "stderr",
     "output_type": "stream",
     "text": [
      "Epoch 2/10 [Previous Loss: 2.3060]:  20%|██        | 48/235 [00:00<00:03, 48.73it/s]"
     ]
    },
    {
     "name": "stdout",
     "output_type": "stream",
     "text": [
      "Mismatch found in epoch 2\n",
      "Mismatch found in epoch 2\n",
      "Mismatch found in epoch 2\n"
     ]
    },
    {
     "name": "stderr",
     "output_type": "stream",
     "text": [
      "Epoch 2/10 [Previous Loss: 2.3060]:  23%|██▎       | 54/235 [00:01<00:03, 50.14it/s]"
     ]
    },
    {
     "name": "stdout",
     "output_type": "stream",
     "text": [
      "Mismatch found in epoch 2\n",
      "Mismatch found in epoch 2\n",
      "Mismatch found in epoch 2\n",
      "Mismatch found in epoch 2\n",
      "Mismatch found in epoch 2\n",
      "Mismatch found in epoch 2\n",
      "Mismatch found in epoch 2\n",
      "Mismatch found in epoch 2\n"
     ]
    },
    {
     "name": "stderr",
     "output_type": "stream",
     "text": [
      "Epoch 2/10 [Previous Loss: 2.3060]:  26%|██▌       | 60/235 [00:01<00:03, 51.55it/s]"
     ]
    },
    {
     "name": "stdout",
     "output_type": "stream",
     "text": [
      "Mismatch found in epoch 2\n",
      "Mismatch found in epoch 2\n",
      "Mismatch found in epoch 2\n",
      "Mismatch found in epoch 2\n"
     ]
    },
    {
     "name": "stderr",
     "output_type": "stream",
     "text": [
      "Epoch 2/10 [Previous Loss: 2.3060]:  28%|██▊       | 66/235 [00:01<00:03, 52.99it/s]"
     ]
    },
    {
     "name": "stdout",
     "output_type": "stream",
     "text": [
      "Mismatch found in epoch 2\n",
      "Mismatch found in epoch 2\n",
      "Mismatch found in epoch 2\n",
      "Mismatch found in epoch 2\n",
      "Mismatch found in epoch 2\n",
      "Mismatch found in epoch 2\n",
      "Mismatch found in epoch 2\n",
      "Mismatch found in epoch 2\n",
      "Mismatch found in epoch 2\n"
     ]
    },
    {
     "name": "stderr",
     "output_type": "stream",
     "text": [
      "Epoch 2/10 [Previous Loss: 2.3060]:  31%|███       | 72/235 [00:01<00:02, 54.76it/s]"
     ]
    },
    {
     "name": "stdout",
     "output_type": "stream",
     "text": [
      "Mismatch found in epoch 2\n",
      "Mismatch found in epoch 2\n",
      "Mismatch found in epoch 2\n"
     ]
    },
    {
     "name": "stderr",
     "output_type": "stream",
     "text": [
      "Epoch 2/10 [Previous Loss: 2.3060]:  33%|███▎      | 78/235 [00:01<00:02, 55.17it/s]"
     ]
    },
    {
     "name": "stdout",
     "output_type": "stream",
     "text": [
      "Mismatch found in epoch 2\n",
      "Mismatch found in epoch 2\n",
      "Mismatch found in epoch 2\n",
      "Mismatch found in epoch 2\n",
      "Mismatch found in epoch 2\n",
      "Mismatch found in epoch 2\n",
      "Mismatch found in epoch 2\n",
      "Mismatch found in epoch 2\n",
      "Mismatch found in epoch 2\n"
     ]
    },
    {
     "name": "stderr",
     "output_type": "stream",
     "text": [
      "Epoch 2/10 [Previous Loss: 2.3060]:  36%|███▌      | 85/235 [00:01<00:02, 57.73it/s]"
     ]
    },
    {
     "name": "stdout",
     "output_type": "stream",
     "text": [
      "Mismatch found in epoch 2\n",
      "Mismatch found in epoch 2\n",
      "Mismatch found in epoch 2\n",
      "Mismatch found in epoch 2\n"
     ]
    },
    {
     "name": "stderr",
     "output_type": "stream",
     "text": [
      "Epoch 2/10 [Previous Loss: 2.3060]:  39%|███▊      | 91/235 [00:01<00:02, 55.31it/s]"
     ]
    },
    {
     "name": "stdout",
     "output_type": "stream",
     "text": [
      "Mismatch found in epoch 2\n",
      "Mismatch found in epoch 2\n",
      "Mismatch found in epoch 2\n",
      "Mismatch found in epoch 2\n",
      "Mismatch found in epoch 2\n",
      "Mismatch found in epoch 2\n",
      "Mismatch found in epoch 2\n"
     ]
    },
    {
     "name": "stderr",
     "output_type": "stream",
     "text": [
      "Epoch 2/10 [Previous Loss: 2.3060]:  43%|████▎     | 102/235 [00:01<00:02, 47.64it/s]"
     ]
    },
    {
     "name": "stdout",
     "output_type": "stream",
     "text": [
      "Mismatch found in epoch 2\n",
      "Mismatch found in epoch 2\n",
      "Mismatch found in epoch 2\n",
      "Mismatch found in epoch 2\n",
      "Mismatch found in epoch 2\n",
      "Mismatch found in epoch 2\n",
      "Mismatch found in epoch 2\n",
      "Mismatch found in epoch 2\n",
      "Mismatch found in epoch 2\n",
      "Mismatch found in epoch 2\n",
      "Mismatch found in epoch 2\n"
     ]
    },
    {
     "name": "stderr",
     "output_type": "stream",
     "text": [
      "Epoch 2/10 [Previous Loss: 2.3060]:  49%|████▉     | 116/235 [00:02<00:02, 56.40it/s]"
     ]
    },
    {
     "name": "stdout",
     "output_type": "stream",
     "text": [
      "Mismatch found in epoch 2\n",
      "Mismatch found in epoch 2\n",
      "Mismatch found in epoch 2\n",
      "Mismatch found in epoch 2\n",
      "Mismatch found in epoch 2\n",
      "Mismatch found in epoch 2\n",
      "Mismatch found in epoch 2\n",
      "Mismatch found in epoch 2\n",
      "Mismatch found in epoch 2\n",
      "Mismatch found in epoch 2\n",
      "Mismatch found in epoch 2\n",
      "Mismatch found in epoch 2\n",
      "Mismatch found in epoch 2\n",
      "Mismatch found in epoch 2\n"
     ]
    },
    {
     "name": "stderr",
     "output_type": "stream",
     "text": [
      "Epoch 2/10 [Previous Loss: 2.3060]:  52%|█████▏    | 123/235 [00:02<00:01, 57.78it/s]"
     ]
    },
    {
     "name": "stdout",
     "output_type": "stream",
     "text": [
      "Mismatch found in epoch 2\n",
      "Mismatch found in epoch 2\n",
      "Mismatch found in epoch 2\n",
      "Mismatch found in epoch 2\n",
      "Mismatch found in epoch 2\n",
      "Mismatch found in epoch 2\n",
      "Mismatch found in epoch 2\n",
      "Mismatch found in epoch 2\n",
      "Mismatch found in epoch 2\n",
      "Mismatch found in epoch 2\n",
      "Mismatch found in epoch 2\n"
     ]
    },
    {
     "name": "stderr",
     "output_type": "stream",
     "text": [
      "Epoch 2/10 [Previous Loss: 2.3060]:  55%|█████▌    | 130/235 [00:02<00:01, 58.73it/s]"
     ]
    },
    {
     "name": "stdout",
     "output_type": "stream",
     "text": [
      "Mismatch found in epoch 2\n"
     ]
    },
    {
     "name": "stderr",
     "output_type": "stream",
     "text": [
      "Epoch 2/10 [Previous Loss: 2.3060]:  58%|█████▊    | 137/235 [00:02<00:01, 59.77it/s]"
     ]
    },
    {
     "name": "stdout",
     "output_type": "stream",
     "text": [
      "Mismatch found in epoch 2\n",
      "Mismatch found in epoch 2\n",
      "Mismatch found in epoch 2\n",
      "Mismatch found in epoch 2\n",
      "Mismatch found in epoch 2\n",
      "Mismatch found in epoch 2\n",
      "Mismatch found in epoch 2\n",
      "Mismatch found in epoch 2\n",
      "Mismatch found in epoch 2\n",
      "Mismatch found in epoch 2\n",
      "Mismatch found in epoch 2\n",
      "Mismatch found in epoch 2\n",
      "Mismatch found in epoch 2\n"
     ]
    },
    {
     "name": "stderr",
     "output_type": "stream",
     "text": [
      "Epoch 2/10 [Previous Loss: 2.3060]:  64%|██████▍   | 150/235 [00:02<00:01, 56.99it/s]"
     ]
    },
    {
     "name": "stdout",
     "output_type": "stream",
     "text": [
      "Mismatch found in epoch 2\n",
      "Mismatch found in epoch 2\n",
      "Mismatch found in epoch 2\n",
      "Mismatch found in epoch 2\n",
      "Mismatch found in epoch 2\n",
      "Mismatch found in epoch 2\n",
      "Mismatch found in epoch 2\n",
      "Mismatch found in epoch 2\n",
      "Mismatch found in epoch 2\n",
      "Mismatch found in epoch 2\n",
      "Mismatch found in epoch 2\n",
      "Mismatch found in epoch 2\n"
     ]
    },
    {
     "name": "stderr",
     "output_type": "stream",
     "text": [
      "Epoch 2/10 [Previous Loss: 2.3060]:  69%|██████▉   | 163/235 [00:03<00:01, 57.89it/s]"
     ]
    },
    {
     "name": "stdout",
     "output_type": "stream",
     "text": [
      "Mismatch found in epoch 2\n",
      "Mismatch found in epoch 2\n",
      "Mismatch found in epoch 2\n",
      "Mismatch found in epoch 2\n",
      "Mismatch found in epoch 2\n",
      "Mismatch found in epoch 2\n",
      "Mismatch found in epoch 2\n",
      "Mismatch found in epoch 2\n",
      "Mismatch found in epoch 2\n",
      "Mismatch found in epoch 2\n",
      "Mismatch found in epoch 2\n",
      "Mismatch found in epoch 2\n"
     ]
    },
    {
     "name": "stderr",
     "output_type": "stream",
     "text": [
      "Epoch 2/10 [Previous Loss: 2.3060]:  72%|███████▏  | 170/235 [00:03<00:01, 58.86it/s]"
     ]
    },
    {
     "name": "stdout",
     "output_type": "stream",
     "text": [
      "Mismatch found in epoch 2\n",
      "Mismatch found in epoch 2\n",
      "Mismatch found in epoch 2\n",
      "Mismatch found in epoch 2\n",
      "Mismatch found in epoch 2\n",
      "Mismatch found in epoch 2\n",
      "Mismatch found in epoch 2\n",
      "Mismatch found in epoch 2\n"
     ]
    },
    {
     "name": "stderr",
     "output_type": "stream",
     "text": [
      "Epoch 2/10 [Previous Loss: 2.3060]:  77%|███████▋  | 182/235 [00:03<00:01, 48.77it/s]"
     ]
    },
    {
     "name": "stdout",
     "output_type": "stream",
     "text": [
      "Mismatch found in epoch 2\n",
      "Mismatch found in epoch 2\n",
      "Mismatch found in epoch 2\n",
      "Mismatch found in epoch 2\n",
      "Mismatch found in epoch 2\n",
      "Mismatch found in epoch 2\n",
      "Mismatch found in epoch 2\n",
      "Mismatch found in epoch 2\n",
      "Mismatch found in epoch 2\n",
      "Mismatch found in epoch 2\n",
      "Mismatch found in epoch 2\n"
     ]
    },
    {
     "name": "stderr",
     "output_type": "stream",
     "text": [
      "Epoch 2/10 [Previous Loss: 2.3060]:  83%|████████▎ | 196/235 [00:03<00:00, 56.12it/s]"
     ]
    },
    {
     "name": "stdout",
     "output_type": "stream",
     "text": [
      "Mismatch found in epoch 2\n",
      "Mismatch found in epoch 2\n",
      "Mismatch found in epoch 2\n",
      "Mismatch found in epoch 2\n",
      "Mismatch found in epoch 2\n",
      "Mismatch found in epoch 2\n",
      "Mismatch found in epoch 2\n",
      "Mismatch found in epoch 2\n",
      "Mismatch found in epoch 2\n",
      "Mismatch found in epoch 2\n",
      "Mismatch found in epoch 2\n",
      "Mismatch found in epoch 2\n",
      "Mismatch found in epoch 2\n",
      "Mismatch found in epoch 2\n",
      "Mismatch found in epoch 2\n"
     ]
    },
    {
     "name": "stderr",
     "output_type": "stream",
     "text": [
      "Epoch 2/10 [Previous Loss: 2.3060]:  90%|████████▉ | 211/235 [00:03<00:00, 61.10it/s]"
     ]
    },
    {
     "name": "stdout",
     "output_type": "stream",
     "text": [
      "Mismatch found in epoch 2\n",
      "Mismatch found in epoch 2\n",
      "Mismatch found in epoch 2\n",
      "Mismatch found in epoch 2\n",
      "Mismatch found in epoch 2\n",
      "Mismatch found in epoch 2\n",
      "Mismatch found in epoch 2\n",
      "Mismatch found in epoch 2\n",
      "Mismatch found in epoch 2\n",
      "Mismatch found in epoch 2\n",
      "Mismatch found in epoch 2\n",
      "Mismatch found in epoch 2\n",
      "Mismatch found in epoch 2\n"
     ]
    },
    {
     "name": "stderr",
     "output_type": "stream",
     "text": [
      "Epoch 2/10 [Previous Loss: 2.3060]:  96%|█████████▌| 225/235 [00:04<00:00, 62.56it/s]"
     ]
    },
    {
     "name": "stdout",
     "output_type": "stream",
     "text": [
      "Mismatch found in epoch 2\n",
      "Mismatch found in epoch 2\n",
      "Mismatch found in epoch 2\n",
      "Mismatch found in epoch 2\n",
      "Mismatch found in epoch 2\n",
      "Mismatch found in epoch 2\n",
      "Mismatch found in epoch 2\n",
      "Mismatch found in epoch 2\n",
      "Mismatch found in epoch 2\n",
      "Mismatch found in epoch 2\n",
      "Mismatch found in epoch 2\n",
      "Mismatch found in epoch 2\n",
      "Mismatch found in epoch 2\n"
     ]
    },
    {
     "name": "stderr",
     "output_type": "stream",
     "text": [
      "Epoch 2/10 [Previous Loss: 2.3060]: 100%|██████████| 235/235 [00:04<00:00, 55.11it/s]\n"
     ]
    },
    {
     "name": "stdout",
     "output_type": "stream",
     "text": [
      "Mismatch found in epoch 2\n",
      "Mismatch found in epoch 2\n",
      "Mismatch found in epoch 2\n",
      "Mismatch found in epoch 2\n",
      "Mismatch found in epoch 2\n",
      "Mismatch found in epoch 2\n",
      "Mismatch found in epoch 2\n",
      "Mismatch found in epoch 2\n"
     ]
    },
    {
     "name": "stderr",
     "output_type": "stream",
     "text": [
      "Epoch 3/10 [Previous Loss: 2.3047]:   4%|▍         | 9/235 [00:00<00:05, 43.87it/s]"
     ]
    },
    {
     "name": "stdout",
     "output_type": "stream",
     "text": [
      "Mismatch found in epoch 3\n",
      "Mismatch found in epoch 3\n",
      "Mismatch found in epoch 3\n",
      "Mismatch found in epoch 3\n",
      "Mismatch found in epoch 3\n",
      "Mismatch found in epoch 3\n",
      "Mismatch found in epoch 3\n",
      "Mismatch found in epoch 3\n",
      "Mismatch found in epoch 3\n",
      "Mismatch found in epoch 3\n",
      "Mismatch found in epoch 3\n",
      "Mismatch found in epoch 3\n",
      "Mismatch found in epoch 3\n"
     ]
    },
    {
     "name": "stderr",
     "output_type": "stream",
     "text": [
      "Epoch 3/10 [Previous Loss: 2.3047]:  10%|▉         | 23/235 [00:00<00:03, 58.57it/s]"
     ]
    },
    {
     "name": "stdout",
     "output_type": "stream",
     "text": [
      "Mismatch found in epoch 3\n",
      "Mismatch found in epoch 3\n",
      "Mismatch found in epoch 3\n",
      "Mismatch found in epoch 3\n",
      "Mismatch found in epoch 3\n",
      "Mismatch found in epoch 3\n",
      "Mismatch found in epoch 3\n",
      "Mismatch found in epoch 3\n",
      "Mismatch found in epoch 3\n",
      "Mismatch found in epoch 3\n",
      "Mismatch found in epoch 3\n",
      "Mismatch found in epoch 3\n",
      "Mismatch found in epoch 3\n",
      "Mismatch found in epoch 3\n"
     ]
    },
    {
     "name": "stderr",
     "output_type": "stream",
     "text": [
      "Epoch 3/10 [Previous Loss: 2.3047]:  13%|█▎        | 30/235 [00:00<00:03, 59.21it/s]"
     ]
    },
    {
     "name": "stdout",
     "output_type": "stream",
     "text": [
      "Mismatch found in epoch 3\n",
      "Mismatch found in epoch 3\n",
      "Mismatch found in epoch 3\n",
      "Mismatch found in epoch 3\n",
      "Mismatch found in epoch 3\n",
      "Mismatch found in epoch 3\n",
      "Mismatch found in epoch 3\n"
     ]
    },
    {
     "name": "stderr",
     "output_type": "stream",
     "text": [
      "Epoch 3/10 [Previous Loss: 2.3047]:  18%|█▊        | 43/235 [00:00<00:03, 51.19it/s]"
     ]
    },
    {
     "name": "stdout",
     "output_type": "stream",
     "text": [
      "Mismatch found in epoch 3\n",
      "Mismatch found in epoch 3\n",
      "Mismatch found in epoch 3\n",
      "Mismatch found in epoch 3\n",
      "Mismatch found in epoch 3\n",
      "Mismatch found in epoch 3\n",
      "Mismatch found in epoch 3\n",
      "Mismatch found in epoch 3\n",
      "Mismatch found in epoch 3\n",
      "Mismatch found in epoch 3\n",
      "Mismatch found in epoch 3\n",
      "Mismatch found in epoch 3\n",
      "Mismatch found in epoch 3\n",
      "Mismatch found in epoch 3\n"
     ]
    },
    {
     "name": "stderr",
     "output_type": "stream",
     "text": [
      "Epoch 3/10 [Previous Loss: 2.3047]:  24%|██▍       | 57/235 [00:01<00:03, 55.16it/s]"
     ]
    },
    {
     "name": "stdout",
     "output_type": "stream",
     "text": [
      "Mismatch found in epoch 3\n",
      "Mismatch found in epoch 3\n",
      "Mismatch found in epoch 3\n",
      "Mismatch found in epoch 3\n",
      "Mismatch found in epoch 3\n",
      "Mismatch found in epoch 3\n",
      "Mismatch found in epoch 3\n",
      "Mismatch found in epoch 3\n",
      "Mismatch found in epoch 3\n",
      "Mismatch found in epoch 3\n",
      "Mismatch found in epoch 3\n",
      "Mismatch found in epoch 3\n"
     ]
    },
    {
     "name": "stderr",
     "output_type": "stream",
     "text": [
      "Epoch 3/10 [Previous Loss: 2.3047]:  30%|███       | 71/235 [00:01<00:02, 61.37it/s]"
     ]
    },
    {
     "name": "stdout",
     "output_type": "stream",
     "text": [
      "Mismatch found in epoch 3\n",
      "Mismatch found in epoch 3\n",
      "Mismatch found in epoch 3\n",
      "Mismatch found in epoch 3\n",
      "Mismatch found in epoch 3\n",
      "Mismatch found in epoch 3\n",
      "Mismatch found in epoch 3\n",
      "Mismatch found in epoch 3\n",
      "Mismatch found in epoch 3\n",
      "Mismatch found in epoch 3\n",
      "Mismatch found in epoch 3\n",
      "Mismatch found in epoch 3\n",
      "Mismatch found in epoch 3\n"
     ]
    },
    {
     "name": "stderr",
     "output_type": "stream",
     "text": [
      "Epoch 3/10 [Previous Loss: 2.3047]:  36%|███▌      | 85/235 [00:01<00:02, 57.91it/s]"
     ]
    },
    {
     "name": "stdout",
     "output_type": "stream",
     "text": [
      "Mismatch found in epoch 3\n",
      "Mismatch found in epoch 3\n",
      "Mismatch found in epoch 3\n",
      "Mismatch found in epoch 3\n",
      "Mismatch found in epoch 3\n",
      "Mismatch found in epoch 3\n",
      "Mismatch found in epoch 3\n",
      "Mismatch found in epoch 3\n",
      "Mismatch found in epoch 3\n",
      "Mismatch found in epoch 3\n",
      "Mismatch found in epoch 3\n",
      "Mismatch found in epoch 3\n"
     ]
    },
    {
     "name": "stderr",
     "output_type": "stream",
     "text": [
      "Epoch 3/10 [Previous Loss: 2.3047]:  42%|████▏     | 99/235 [00:01<00:02, 62.44it/s]"
     ]
    },
    {
     "name": "stdout",
     "output_type": "stream",
     "text": [
      "Mismatch found in epoch 3\n",
      "Mismatch found in epoch 3\n",
      "Mismatch found in epoch 3\n",
      "Mismatch found in epoch 3\n",
      "Mismatch found in epoch 3\n",
      "Mismatch found in epoch 3\n",
      "Mismatch found in epoch 3\n",
      "Mismatch found in epoch 3\n",
      "Mismatch found in epoch 3\n",
      "Mismatch found in epoch 3\n",
      "Mismatch found in epoch 3\n",
      "Mismatch found in epoch 3\n",
      "Mismatch found in epoch 3\n",
      "Mismatch found in epoch 3\n"
     ]
    },
    {
     "name": "stderr",
     "output_type": "stream",
     "text": [
      "Epoch 3/10 [Previous Loss: 2.3047]:  45%|████▌     | 106/235 [00:01<00:02, 60.48it/s]"
     ]
    },
    {
     "name": "stdout",
     "output_type": "stream",
     "text": [
      "Mismatch found in epoch 3\n",
      "Mismatch found in epoch 3\n",
      "Mismatch found in epoch 3\n",
      "Mismatch found in epoch 3\n",
      "Mismatch found in epoch 3\n",
      "Mismatch found in epoch 3\n",
      "Mismatch found in epoch 3\n",
      "Mismatch found in epoch 3\n",
      "Mismatch found in epoch 3\n",
      "Mismatch found in epoch 3\n",
      "Mismatch found in epoch 3\n",
      "Mismatch found in epoch 3\n"
     ]
    },
    {
     "name": "stderr",
     "output_type": "stream",
     "text": [
      "Epoch 3/10 [Previous Loss: 2.3047]:  51%|█████     | 120/235 [00:02<00:01, 60.90it/s]"
     ]
    },
    {
     "name": "stdout",
     "output_type": "stream",
     "text": [
      "Mismatch found in epoch 3\n",
      "Mismatch found in epoch 3\n",
      "Mismatch found in epoch 3\n",
      "Mismatch found in epoch 3\n",
      "Mismatch found in epoch 3\n",
      "Mismatch found in epoch 3\n",
      "Mismatch found in epoch 3\n",
      "Mismatch found in epoch 3\n",
      "Mismatch found in epoch 3\n",
      "Mismatch found in epoch 3\n",
      "Mismatch found in epoch 3\n",
      "Mismatch found in epoch 3\n",
      "Mismatch found in epoch 3\n"
     ]
    },
    {
     "name": "stderr",
     "output_type": "stream",
     "text": [
      "Epoch 3/10 [Previous Loss: 2.3047]:  54%|█████▍    | 127/235 [00:02<00:01, 63.12it/s]"
     ]
    },
    {
     "name": "stdout",
     "output_type": "stream",
     "text": [
      "Mismatch found in epoch 3\n",
      "Mismatch found in epoch 3\n",
      "Mismatch found in epoch 3\n",
      "Mismatch found in epoch 3\n",
      "Mismatch found in epoch 3\n",
      "Mismatch found in epoch 3\n",
      "Mismatch found in epoch 3\n",
      "Mismatch found in epoch 3\n",
      "Mismatch found in epoch 3\n",
      "Mismatch found in epoch 3\n"
     ]
    },
    {
     "name": "stderr",
     "output_type": "stream",
     "text": [
      "Epoch 3/10 [Previous Loss: 2.3047]:  63%|██████▎   | 148/235 [00:02<00:01, 57.73it/s]"
     ]
    },
    {
     "name": "stdout",
     "output_type": "stream",
     "text": [
      "Mismatch found in epoch 3\n",
      "Mismatch found in epoch 3\n",
      "Mismatch found in epoch 3\n",
      "Mismatch found in epoch 3\n",
      "Mismatch found in epoch 3\n",
      "Mismatch found in epoch 3\n",
      "Mismatch found in epoch 3\n",
      "Mismatch found in epoch 3\n",
      "Mismatch found in epoch 3\n",
      "Mismatch found in epoch 3\n",
      "Mismatch found in epoch 3\n",
      "Mismatch found in epoch 3\n",
      "Mismatch found in epoch 3\n",
      "Mismatch found in epoch 3\n"
     ]
    },
    {
     "name": "stderr",
     "output_type": "stream",
     "text": [
      "Epoch 3/10 [Previous Loss: 2.3047]:  69%|██████▊   | 161/235 [00:02<00:01, 59.00it/s]"
     ]
    },
    {
     "name": "stdout",
     "output_type": "stream",
     "text": [
      "Mismatch found in epoch 3\n",
      "Mismatch found in epoch 3\n",
      "Mismatch found in epoch 3\n",
      "Mismatch found in epoch 3\n",
      "Mismatch found in epoch 3\n",
      "Mismatch found in epoch 3\n",
      "Mismatch found in epoch 3\n",
      "Mismatch found in epoch 3\n",
      "Mismatch found in epoch 3\n",
      "Mismatch found in epoch 3\n",
      "Mismatch found in epoch 3\n",
      "Mismatch found in epoch 3\n",
      "Mismatch found in epoch 3\n"
     ]
    },
    {
     "name": "stderr",
     "output_type": "stream",
     "text": [
      "Epoch 3/10 [Previous Loss: 2.3047]:  71%|███████▏  | 168/235 [00:02<00:01, 58.62it/s]"
     ]
    },
    {
     "name": "stdout",
     "output_type": "stream",
     "text": [
      "Mismatch found in epoch 3\n",
      "Mismatch found in epoch 3\n",
      "Mismatch found in epoch 3\n",
      "Mismatch found in epoch 3\n",
      "Mismatch found in epoch 3\n",
      "Mismatch found in epoch 3\n",
      "Mismatch found in epoch 3\n",
      "Mismatch found in epoch 3\n",
      "Mismatch found in epoch 3\n",
      "Mismatch found in epoch 3\n",
      "Mismatch found in epoch 3\n",
      "Mismatch found in epoch 3\n"
     ]
    },
    {
     "name": "stderr",
     "output_type": "stream",
     "text": [
      "Epoch 3/10 [Previous Loss: 2.3047]:  77%|███████▋  | 181/235 [00:03<00:00, 59.55it/s]"
     ]
    },
    {
     "name": "stdout",
     "output_type": "stream",
     "text": [
      "Mismatch found in epoch 3\n",
      "Mismatch found in epoch 3\n",
      "Mismatch found in epoch 3\n",
      "Mismatch found in epoch 3\n",
      "Mismatch found in epoch 3\n",
      "Mismatch found in epoch 3\n",
      "Mismatch found in epoch 3\n",
      "Mismatch found in epoch 3\n",
      "Mismatch found in epoch 3\n",
      "Mismatch found in epoch 3\n",
      "Mismatch found in epoch 3\n",
      "Mismatch found in epoch 3\n",
      "Mismatch found in epoch 3\n",
      "Mismatch found in epoch 3\n",
      "Mismatch found in epoch 3\n"
     ]
    },
    {
     "name": "stderr",
     "output_type": "stream",
     "text": [
      "Epoch 3/10 [Previous Loss: 2.3047]:  84%|████████▍ | 197/235 [00:03<00:00, 64.70it/s]"
     ]
    },
    {
     "name": "stdout",
     "output_type": "stream",
     "text": [
      "Mismatch found in epoch 3\n",
      "Mismatch found in epoch 3\n",
      "Mismatch found in epoch 3\n",
      "Mismatch found in epoch 3\n",
      "Mismatch found in epoch 3\n",
      "Mismatch found in epoch 3\n",
      "Mismatch found in epoch 3\n",
      "Mismatch found in epoch 3\n",
      "Mismatch found in epoch 3\n",
      "Mismatch found in epoch 3\n",
      "Mismatch found in epoch 3\n",
      "Mismatch found in epoch 3\n",
      "Mismatch found in epoch 3\n"
     ]
    },
    {
     "name": "stderr",
     "output_type": "stream",
     "text": [
      "Epoch 3/10 [Previous Loss: 2.3047]:  90%|████████▉ | 211/235 [00:03<00:00, 58.91it/s]"
     ]
    },
    {
     "name": "stdout",
     "output_type": "stream",
     "text": [
      "Mismatch found in epoch 3\n",
      "Mismatch found in epoch 3\n",
      "Mismatch found in epoch 3\n",
      "Mismatch found in epoch 3\n",
      "Mismatch found in epoch 3\n",
      "Mismatch found in epoch 3\n",
      "Mismatch found in epoch 3\n",
      "Mismatch found in epoch 3\n",
      "Mismatch found in epoch 3\n",
      "Mismatch found in epoch 3\n",
      "Mismatch found in epoch 3\n"
     ]
    },
    {
     "name": "stderr",
     "output_type": "stream",
     "text": [
      "Epoch 3/10 [Previous Loss: 2.3047]:  95%|█████████▍| 223/235 [00:03<00:00, 59.08it/s]"
     ]
    },
    {
     "name": "stdout",
     "output_type": "stream",
     "text": [
      "Mismatch found in epoch 3\n",
      "Mismatch found in epoch 3\n",
      "Mismatch found in epoch 3\n",
      "Mismatch found in epoch 3\n",
      "Mismatch found in epoch 3\n",
      "Mismatch found in epoch 3\n",
      "Mismatch found in epoch 3\n",
      "Mismatch found in epoch 3\n",
      "Mismatch found in epoch 3\n",
      "Mismatch found in epoch 3\n",
      "Mismatch found in epoch 3\n",
      "Mismatch found in epoch 3\n"
     ]
    },
    {
     "name": "stderr",
     "output_type": "stream",
     "text": [
      "Epoch 3/10 [Previous Loss: 2.3047]:  98%|█████████▊| 230/235 [00:03<00:00, 60.44it/s]"
     ]
    },
    {
     "name": "stdout",
     "output_type": "stream",
     "text": [
      "Mismatch found in epoch 3\n",
      "Mismatch found in epoch 3\n",
      "Mismatch found in epoch 3\n",
      "Mismatch found in epoch 3\n",
      "Mismatch found in epoch 3\n",
      "Mismatch found in epoch 3\n",
      "Mismatch found in epoch 3\n",
      "Mismatch found in epoch 3\n",
      "Mismatch found in epoch 3\n",
      "Mismatch found in epoch 3\n"
     ]
    },
    {
     "name": "stderr",
     "output_type": "stream",
     "text": [
      "Epoch 3/10 [Previous Loss: 2.3047]: 100%|██████████| 235/235 [00:04<00:00, 56.93it/s]\n"
     ]
    },
    {
     "name": "stdout",
     "output_type": "stream",
     "text": [
      "Mismatch found in epoch 3\n"
     ]
    },
    {
     "name": "stderr",
     "output_type": "stream",
     "text": [
      "Epoch 4/10 [Previous Loss: 2.3033]:   0%|          | 1/235 [00:00<00:34,  6.81it/s]"
     ]
    },
    {
     "name": "stdout",
     "output_type": "stream",
     "text": [
      "Mismatch found in epoch 4\n"
     ]
    },
    {
     "name": "stderr",
     "output_type": "stream",
     "text": [
      "Epoch 4/10 [Previous Loss: 2.3033]:   3%|▎         | 6/235 [00:00<00:08, 26.33it/s]"
     ]
    },
    {
     "name": "stdout",
     "output_type": "stream",
     "text": [
      "Mismatch found in epoch 4\n",
      "Mismatch found in epoch 4\n",
      "Mismatch found in epoch 4\n",
      "Mismatch found in epoch 4\n",
      "Mismatch found in epoch 4\n",
      "Mismatch found in epoch 4\n",
      "Mismatch found in epoch 4\n",
      "Mismatch found in epoch 4\n",
      "Mismatch found in epoch 4\n"
     ]
    },
    {
     "name": "stderr",
     "output_type": "stream",
     "text": [
      "Epoch 4/10 [Previous Loss: 2.3033]:   5%|▌         | 12/235 [00:00<00:05, 37.43it/s]"
     ]
    },
    {
     "name": "stdout",
     "output_type": "stream",
     "text": [
      "Mismatch found in epoch 4\n",
      "Mismatch found in epoch 4\n"
     ]
    },
    {
     "name": "stderr",
     "output_type": "stream",
     "text": [
      "Epoch 4/10 [Previous Loss: 2.3033]:   8%|▊         | 18/235 [00:00<00:04, 44.35it/s]"
     ]
    },
    {
     "name": "stdout",
     "output_type": "stream",
     "text": [
      "Mismatch found in epoch 4\n",
      "Mismatch found in epoch 4\n",
      "Mismatch found in epoch 4\n",
      "Mismatch found in epoch 4\n",
      "Mismatch found in epoch 4\n",
      "Mismatch found in epoch 4\n",
      "Mismatch found in epoch 4\n",
      "Mismatch found in epoch 4\n",
      "Mismatch found in epoch 4\n",
      "Mismatch found in epoch 4\n"
     ]
    },
    {
     "name": "stderr",
     "output_type": "stream",
     "text": [
      "Epoch 4/10 [Previous Loss: 2.3033]:  10%|█         | 24/235 [00:00<00:04, 47.02it/s]"
     ]
    },
    {
     "name": "stdout",
     "output_type": "stream",
     "text": [
      "Mismatch found in epoch 4\n",
      "Mismatch found in epoch 4\n"
     ]
    },
    {
     "name": "stderr",
     "output_type": "stream",
     "text": [
      "Epoch 4/10 [Previous Loss: 2.3033]:  12%|█▏        | 29/235 [00:00<00:04, 47.25it/s]"
     ]
    },
    {
     "name": "stdout",
     "output_type": "stream",
     "text": [
      "Mismatch found in epoch 4\n",
      "Mismatch found in epoch 4\n",
      "Mismatch found in epoch 4\n",
      "Mismatch found in epoch 4\n",
      "Mismatch found in epoch 4\n",
      "Mismatch found in epoch 4\n",
      "Mismatch found in epoch 4\n",
      "Mismatch found in epoch 4\n"
     ]
    },
    {
     "name": "stderr",
     "output_type": "stream",
     "text": [
      "Epoch 4/10 [Previous Loss: 2.3033]:  15%|█▍        | 35/235 [00:00<00:04, 48.69it/s]"
     ]
    },
    {
     "name": "stdout",
     "output_type": "stream",
     "text": [
      "Mismatch found in epoch 4\n",
      "Mismatch found in epoch 4\n",
      "Mismatch found in epoch 4\n"
     ]
    },
    {
     "name": "stderr",
     "output_type": "stream",
     "text": [
      "Epoch 4/10 [Previous Loss: 2.3033]:  17%|█▋        | 41/235 [00:00<00:04, 47.96it/s]"
     ]
    },
    {
     "name": "stdout",
     "output_type": "stream",
     "text": [
      "Mismatch found in epoch 4\n",
      "Mismatch found in epoch 4\n",
      "Mismatch found in epoch 4\n",
      "Mismatch found in epoch 4\n",
      "Mismatch found in epoch 4\n",
      "Mismatch found in epoch 4\n"
     ]
    },
    {
     "name": "stderr",
     "output_type": "stream",
     "text": [
      "Epoch 4/10 [Previous Loss: 2.3033]:  20%|█▉        | 46/235 [00:01<00:04, 38.69it/s]"
     ]
    },
    {
     "name": "stdout",
     "output_type": "stream",
     "text": [
      "Mismatch found in epoch 4\n",
      "Mismatch found in epoch 4\n",
      "Mismatch found in epoch 4\n",
      "Mismatch found in epoch 4\n",
      "Mismatch found in epoch 4\n",
      "Mismatch found in epoch 4\n",
      "Mismatch found in epoch 4\n",
      "Mismatch found in epoch 4\n",
      "Mismatch found in epoch 4\n",
      "Mismatch found in epoch 4\n"
     ]
    },
    {
     "name": "stderr",
     "output_type": "stream",
     "text": [
      "Epoch 4/10 [Previous Loss: 2.3033]:  25%|██▍       | 58/235 [00:01<00:03, 45.82it/s]"
     ]
    },
    {
     "name": "stdout",
     "output_type": "stream",
     "text": [
      "Mismatch found in epoch 4\n",
      "Mismatch found in epoch 4\n",
      "Mismatch found in epoch 4\n",
      "Mismatch found in epoch 4\n",
      "Mismatch found in epoch 4\n",
      "Mismatch found in epoch 4\n",
      "Mismatch found in epoch 4\n",
      "Mismatch found in epoch 4\n",
      "Mismatch found in epoch 4\n",
      "Mismatch found in epoch 4\n",
      "Mismatch found in epoch 4\n",
      "Mismatch found in epoch 4\n"
     ]
    },
    {
     "name": "stderr",
     "output_type": "stream",
     "text": [
      "Epoch 4/10 [Previous Loss: 2.3033]:  30%|███       | 71/235 [00:01<00:03, 51.70it/s]"
     ]
    },
    {
     "name": "stdout",
     "output_type": "stream",
     "text": [
      "Mismatch found in epoch 4\n",
      "Mismatch found in epoch 4\n",
      "Mismatch found in epoch 4\n",
      "Mismatch found in epoch 4\n",
      "Mismatch found in epoch 4\n",
      "Mismatch found in epoch 4\n",
      "Mismatch found in epoch 4\n",
      "Mismatch found in epoch 4\n",
      "Mismatch found in epoch 4\n",
      "Mismatch found in epoch 4\n",
      "Mismatch found in epoch 4\n",
      "Mismatch found in epoch 4\n"
     ]
    },
    {
     "name": "stderr",
     "output_type": "stream",
     "text": [
      "Epoch 4/10 [Previous Loss: 2.3033]:  36%|███▌      | 85/235 [00:01<00:02, 56.24it/s]"
     ]
    },
    {
     "name": "stdout",
     "output_type": "stream",
     "text": [
      "Mismatch found in epoch 4\n",
      "Mismatch found in epoch 4\n",
      "Mismatch found in epoch 4\n",
      "Mismatch found in epoch 4\n",
      "Mismatch found in epoch 4\n",
      "Mismatch found in epoch 4\n",
      "Mismatch found in epoch 4\n",
      "Mismatch found in epoch 4\n",
      "Mismatch found in epoch 4\n",
      "Mismatch found in epoch 4\n",
      "Mismatch found in epoch 4\n",
      "Mismatch found in epoch 4\n"
     ]
    },
    {
     "name": "stderr",
     "output_type": "stream",
     "text": [
      "Epoch 4/10 [Previous Loss: 2.3033]:  41%|████▏     | 97/235 [00:02<00:02, 55.32it/s]"
     ]
    },
    {
     "name": "stdout",
     "output_type": "stream",
     "text": [
      "Mismatch found in epoch 4\n",
      "Mismatch found in epoch 4\n",
      "Mismatch found in epoch 4\n",
      "Mismatch found in epoch 4\n",
      "Mismatch found in epoch 4\n",
      "Mismatch found in epoch 4\n",
      "Mismatch found in epoch 4\n",
      "Mismatch found in epoch 4\n",
      "Mismatch found in epoch 4\n",
      "Mismatch found in epoch 4\n",
      "Mismatch found in epoch 4\n",
      "Mismatch found in epoch 4\n"
     ]
    },
    {
     "name": "stderr",
     "output_type": "stream",
     "text": [
      "Epoch 4/10 [Previous Loss: 2.3033]:  48%|████▊     | 112/235 [00:02<00:02, 60.84it/s]"
     ]
    },
    {
     "name": "stdout",
     "output_type": "stream",
     "text": [
      "Mismatch found in epoch 4\n",
      "Mismatch found in epoch 4\n",
      "Mismatch found in epoch 4\n",
      "Mismatch found in epoch 4\n",
      "Mismatch found in epoch 4\n",
      "Mismatch found in epoch 4\n",
      "Mismatch found in epoch 4\n",
      "Mismatch found in epoch 4\n",
      "Mismatch found in epoch 4\n",
      "Mismatch found in epoch 4\n",
      "Mismatch found in epoch 4\n",
      "Mismatch found in epoch 4\n",
      "Mismatch found in epoch 4\n"
     ]
    },
    {
     "name": "stderr",
     "output_type": "stream",
     "text": [
      "Epoch 4/10 [Previous Loss: 2.3033]:  51%|█████     | 119/235 [00:02<00:02, 56.92it/s]"
     ]
    },
    {
     "name": "stdout",
     "output_type": "stream",
     "text": [
      "Mismatch found in epoch 4\n",
      "Mismatch found in epoch 4\n",
      "Mismatch found in epoch 4\n",
      "Mismatch found in epoch 4\n",
      "Mismatch found in epoch 4\n",
      "Mismatch found in epoch 4\n",
      "Mismatch found in epoch 4\n",
      "Mismatch found in epoch 4\n",
      "Mismatch found in epoch 4\n",
      "Mismatch found in epoch 4\n"
     ]
    },
    {
     "name": "stderr",
     "output_type": "stream",
     "text": [
      "Epoch 4/10 [Previous Loss: 2.3033]:  53%|█████▎    | 125/235 [00:02<00:02, 51.08it/s]"
     ]
    },
    {
     "name": "stdout",
     "output_type": "stream",
     "text": [
      "Mismatch found in epoch 4\n",
      "Mismatch found in epoch 4\n",
      "Mismatch found in epoch 4\n",
      "Mismatch found in epoch 4\n",
      "Mismatch found in epoch 4\n",
      "Mismatch found in epoch 4\n"
     ]
    },
    {
     "name": "stderr",
     "output_type": "stream",
     "text": [
      "Epoch 4/10 [Previous Loss: 2.3033]:  58%|█████▊    | 136/235 [00:02<00:02, 42.84it/s]"
     ]
    },
    {
     "name": "stdout",
     "output_type": "stream",
     "text": [
      "Mismatch found in epoch 4\n",
      "Mismatch found in epoch 4\n",
      "Mismatch found in epoch 4\n",
      "Mismatch found in epoch 4\n",
      "Mismatch found in epoch 4\n",
      "Mismatch found in epoch 4\n",
      "Mismatch found in epoch 4\n",
      "Mismatch found in epoch 4\n",
      "Mismatch found in epoch 4\n"
     ]
    },
    {
     "name": "stderr",
     "output_type": "stream",
     "text": [
      "Epoch 4/10 [Previous Loss: 2.3033]:  63%|██████▎   | 148/235 [00:03<00:01, 48.80it/s]"
     ]
    },
    {
     "name": "stdout",
     "output_type": "stream",
     "text": [
      "Mismatch found in epoch 4\n",
      "Mismatch found in epoch 4\n",
      "Mismatch found in epoch 4\n",
      "Mismatch found in epoch 4\n",
      "Mismatch found in epoch 4\n",
      "Mismatch found in epoch 4\n",
      "Mismatch found in epoch 4\n",
      "Mismatch found in epoch 4\n",
      "Mismatch found in epoch 4\n",
      "Mismatch found in epoch 4\n",
      "Mismatch found in epoch 4\n",
      "Mismatch found in epoch 4\n"
     ]
    },
    {
     "name": "stderr",
     "output_type": "stream",
     "text": [
      "Epoch 4/10 [Previous Loss: 2.3033]:  66%|██████▌   | 154/235 [00:03<00:01, 47.18it/s]"
     ]
    },
    {
     "name": "stdout",
     "output_type": "stream",
     "text": [
      "Mismatch found in epoch 4\n",
      "Mismatch found in epoch 4\n",
      "Mismatch found in epoch 4\n",
      "Mismatch found in epoch 4\n",
      "Mismatch found in epoch 4\n",
      "Mismatch found in epoch 4\n",
      "Mismatch found in epoch 4\n",
      "Mismatch found in epoch 4\n",
      "Mismatch found in epoch 4\n",
      "Mismatch found in epoch 4\n"
     ]
    },
    {
     "name": "stderr",
     "output_type": "stream",
     "text": [
      "Epoch 4/10 [Previous Loss: 2.3033]:  71%|███████   | 166/235 [00:03<00:01, 51.20it/s]"
     ]
    },
    {
     "name": "stdout",
     "output_type": "stream",
     "text": [
      "Mismatch found in epoch 4\n",
      "Mismatch found in epoch 4\n",
      "Mismatch found in epoch 4\n",
      "Mismatch found in epoch 4\n",
      "Mismatch found in epoch 4\n",
      "Mismatch found in epoch 4\n",
      "Mismatch found in epoch 4\n",
      "Mismatch found in epoch 4\n",
      "Mismatch found in epoch 4\n",
      "Mismatch found in epoch 4\n",
      "Mismatch found in epoch 4\n"
     ]
    },
    {
     "name": "stderr",
     "output_type": "stream",
     "text": [
      "Epoch 4/10 [Previous Loss: 2.3033]:  76%|███████▌  | 178/235 [00:03<00:01, 46.89it/s]"
     ]
    },
    {
     "name": "stdout",
     "output_type": "stream",
     "text": [
      "Mismatch found in epoch 4\n",
      "Mismatch found in epoch 4\n",
      "Mismatch found in epoch 4\n",
      "Mismatch found in epoch 4\n",
      "Mismatch found in epoch 4\n",
      "Mismatch found in epoch 4\n",
      "Mismatch found in epoch 4\n",
      "Mismatch found in epoch 4\n",
      "Mismatch found in epoch 4\n",
      "Mismatch found in epoch 4\n"
     ]
    },
    {
     "name": "stderr",
     "output_type": "stream",
     "text": [
      "Epoch 4/10 [Previous Loss: 2.3033]:  81%|████████  | 190/235 [00:03<00:00, 50.55it/s]"
     ]
    },
    {
     "name": "stdout",
     "output_type": "stream",
     "text": [
      "Mismatch found in epoch 4\n",
      "Mismatch found in epoch 4\n",
      "Mismatch found in epoch 4\n",
      "Mismatch found in epoch 4\n",
      "Mismatch found in epoch 4\n",
      "Mismatch found in epoch 4\n",
      "Mismatch found in epoch 4\n",
      "Mismatch found in epoch 4\n",
      "Mismatch found in epoch 4\n",
      "Mismatch found in epoch 4\n",
      "Mismatch found in epoch 4\n"
     ]
    },
    {
     "name": "stderr",
     "output_type": "stream",
     "text": [
      "Epoch 4/10 [Previous Loss: 2.3033]:  86%|████████▌ | 202/235 [00:04<00:00, 50.06it/s]"
     ]
    },
    {
     "name": "stdout",
     "output_type": "stream",
     "text": [
      "Mismatch found in epoch 4\n",
      "Mismatch found in epoch 4\n",
      "Mismatch found in epoch 4\n",
      "Mismatch found in epoch 4\n",
      "Mismatch found in epoch 4\n",
      "Mismatch found in epoch 4\n",
      "Mismatch found in epoch 4\n",
      "Mismatch found in epoch 4\n",
      "Mismatch found in epoch 4\n",
      "Mismatch found in epoch 4\n",
      "Mismatch found in epoch 4\n"
     ]
    },
    {
     "name": "stderr",
     "output_type": "stream",
     "text": [
      "Epoch 4/10 [Previous Loss: 2.3033]:  89%|████████▊ | 208/235 [00:04<00:00, 39.99it/s]"
     ]
    },
    {
     "name": "stdout",
     "output_type": "stream",
     "text": [
      "Mismatch found in epoch 4\n",
      "Mismatch found in epoch 4\n",
      "Mismatch found in epoch 4\n",
      "Mismatch found in epoch 4\n",
      "Mismatch found in epoch 4\n",
      "Mismatch found in epoch 4\n"
     ]
    },
    {
     "name": "stderr",
     "output_type": "stream",
     "text": [
      "Epoch 4/10 [Previous Loss: 2.3033]:  91%|█████████ | 213/235 [00:04<00:00, 40.61it/s]"
     ]
    },
    {
     "name": "stdout",
     "output_type": "stream",
     "text": [
      "Mismatch found in epoch 4\n",
      "Mismatch found in epoch 4\n",
      "Mismatch found in epoch 4\n",
      "Mismatch found in epoch 4\n",
      "Mismatch found in epoch 4\n",
      "Mismatch found in epoch 4\n",
      "Mismatch found in epoch 4\n",
      "Mismatch found in epoch 4\n"
     ]
    },
    {
     "name": "stderr",
     "output_type": "stream",
     "text": [
      "Epoch 4/10 [Previous Loss: 2.3033]:  95%|█████████▍| 223/235 [00:04<00:00, 40.10it/s]"
     ]
    },
    {
     "name": "stdout",
     "output_type": "stream",
     "text": [
      "Mismatch found in epoch 4\n",
      "Mismatch found in epoch 4\n",
      "Mismatch found in epoch 4\n",
      "Mismatch found in epoch 4\n",
      "Mismatch found in epoch 4\n",
      "Mismatch found in epoch 4\n",
      "Mismatch found in epoch 4\n",
      "Mismatch found in epoch 4\n",
      "Mismatch found in epoch 4\n"
     ]
    },
    {
     "name": "stderr",
     "output_type": "stream",
     "text": [
      "Epoch 4/10 [Previous Loss: 2.3033]: 100%|██████████| 235/235 [00:05<00:00, 46.86it/s]\n"
     ]
    },
    {
     "name": "stdout",
     "output_type": "stream",
     "text": [
      "Mismatch found in epoch 4\n",
      "Mismatch found in epoch 4\n",
      "Mismatch found in epoch 4\n",
      "Mismatch found in epoch 4\n",
      "Mismatch found in epoch 4\n",
      "Mismatch found in epoch 4\n",
      "Mismatch found in epoch 4\n",
      "Mismatch found in epoch 4\n",
      "Mismatch found in epoch 4\n",
      "Mismatch found in epoch 4\n"
     ]
    },
    {
     "name": "stderr",
     "output_type": "stream",
     "text": [
      "Epoch 5/10 [Previous Loss: 2.3018]:   3%|▎         | 7/235 [00:00<00:06, 33.05it/s]"
     ]
    },
    {
     "name": "stdout",
     "output_type": "stream",
     "text": [
      "Mismatch found in epoch 5\n",
      "Mismatch found in epoch 5\n",
      "Mismatch found in epoch 5\n",
      "Mismatch found in epoch 5\n",
      "Mismatch found in epoch 5\n",
      "Mismatch found in epoch 5\n",
      "Mismatch found in epoch 5\n",
      "Mismatch found in epoch 5\n",
      "Mismatch found in epoch 5\n",
      "Mismatch found in epoch 5\n",
      "Mismatch found in epoch 5\n",
      "Mismatch found in epoch 5\n"
     ]
    },
    {
     "name": "stderr",
     "output_type": "stream",
     "text": [
      "Epoch 5/10 [Previous Loss: 2.3018]:   8%|▊         | 18/235 [00:00<00:04, 43.48it/s]"
     ]
    },
    {
     "name": "stdout",
     "output_type": "stream",
     "text": [
      "Mismatch found in epoch 5\n",
      "Mismatch found in epoch 5\n",
      "Mismatch found in epoch 5\n",
      "Mismatch found in epoch 5\n",
      "Mismatch found in epoch 5\n",
      "Mismatch found in epoch 5\n",
      "Mismatch found in epoch 5\n",
      "Mismatch found in epoch 5\n",
      "Mismatch found in epoch 5\n",
      "Mismatch found in epoch 5\n"
     ]
    },
    {
     "name": "stderr",
     "output_type": "stream",
     "text": [
      "Epoch 5/10 [Previous Loss: 2.3018]:  12%|█▏        | 29/235 [00:00<00:04, 45.67it/s]"
     ]
    },
    {
     "name": "stdout",
     "output_type": "stream",
     "text": [
      "Mismatch found in epoch 5\n",
      "Mismatch found in epoch 5\n",
      "Mismatch found in epoch 5\n",
      "Mismatch found in epoch 5\n",
      "Mismatch found in epoch 5\n",
      "Mismatch found in epoch 5\n",
      "Mismatch found in epoch 5\n",
      "Mismatch found in epoch 5\n",
      "Mismatch found in epoch 5\n",
      "Mismatch found in epoch 5\n"
     ]
    },
    {
     "name": "stderr",
     "output_type": "stream",
     "text": [
      "Epoch 5/10 [Previous Loss: 2.3018]:  17%|█▋        | 41/235 [00:00<00:03, 49.77it/s]"
     ]
    },
    {
     "name": "stdout",
     "output_type": "stream",
     "text": [
      "Mismatch found in epoch 5\n",
      "Mismatch found in epoch 5\n",
      "Mismatch found in epoch 5\n",
      "Mismatch found in epoch 5\n",
      "Mismatch found in epoch 5\n",
      "Mismatch found in epoch 5\n",
      "Mismatch found in epoch 5\n",
      "Mismatch found in epoch 5\n",
      "Mismatch found in epoch 5\n",
      "Mismatch found in epoch 5\n"
     ]
    },
    {
     "name": "stderr",
     "output_type": "stream",
     "text": [
      "Epoch 5/10 [Previous Loss: 2.3018]:  20%|██        | 47/235 [00:01<00:04, 40.73it/s]"
     ]
    },
    {
     "name": "stdout",
     "output_type": "stream",
     "text": [
      "Mismatch found in epoch 5\n",
      "Mismatch found in epoch 5\n",
      "Mismatch found in epoch 5\n",
      "Mismatch found in epoch 5\n",
      "Mismatch found in epoch 5\n",
      "Mismatch found in epoch 5\n",
      "Mismatch found in epoch 5\n"
     ]
    },
    {
     "name": "stderr",
     "output_type": "stream",
     "text": [
      "Epoch 5/10 [Previous Loss: 2.3018]:  25%|██▍       | 58/235 [00:01<00:03, 44.80it/s]"
     ]
    },
    {
     "name": "stdout",
     "output_type": "stream",
     "text": [
      "Mismatch found in epoch 5\n",
      "Mismatch found in epoch 5\n",
      "Mismatch found in epoch 5\n",
      "Mismatch found in epoch 5\n",
      "Mismatch found in epoch 5\n",
      "Mismatch found in epoch 5\n",
      "Mismatch found in epoch 5\n",
      "Mismatch found in epoch 5\n",
      "Mismatch found in epoch 5\n",
      "Mismatch found in epoch 5\n",
      "Mismatch found in epoch 5\n"
     ]
    },
    {
     "name": "stderr",
     "output_type": "stream",
     "text": [
      "Epoch 5/10 [Previous Loss: 2.3018]:  29%|██▉       | 69/235 [00:01<00:03, 48.24it/s]"
     ]
    },
    {
     "name": "stdout",
     "output_type": "stream",
     "text": [
      "Mismatch found in epoch 5\n",
      "Mismatch found in epoch 5\n",
      "Mismatch found in epoch 5\n",
      "Mismatch found in epoch 5\n",
      "Mismatch found in epoch 5\n",
      "Mismatch found in epoch 5\n",
      "Mismatch found in epoch 5\n",
      "Mismatch found in epoch 5\n",
      "Mismatch found in epoch 5\n",
      "Mismatch found in epoch 5\n",
      "Mismatch found in epoch 5\n"
     ]
    },
    {
     "name": "stderr",
     "output_type": "stream",
     "text": [
      "Epoch 5/10 [Previous Loss: 2.3018]:  34%|███▍      | 81/235 [00:01<00:03, 49.36it/s]"
     ]
    },
    {
     "name": "stdout",
     "output_type": "stream",
     "text": [
      "Mismatch found in epoch 5\n",
      "Mismatch found in epoch 5\n",
      "Mismatch found in epoch 5\n",
      "Mismatch found in epoch 5\n",
      "Mismatch found in epoch 5\n",
      "Mismatch found in epoch 5\n",
      "Mismatch found in epoch 5\n",
      "Mismatch found in epoch 5\n",
      "Mismatch found in epoch 5\n",
      "Mismatch found in epoch 5\n"
     ]
    },
    {
     "name": "stderr",
     "output_type": "stream",
     "text": [
      "Epoch 5/10 [Previous Loss: 2.3018]:  40%|███▉      | 93/235 [00:02<00:02, 51.79it/s]"
     ]
    },
    {
     "name": "stdout",
     "output_type": "stream",
     "text": [
      "Mismatch found in epoch 5\n",
      "Mismatch found in epoch 5\n",
      "Mismatch found in epoch 5\n",
      "Mismatch found in epoch 5\n",
      "Mismatch found in epoch 5\n",
      "Mismatch found in epoch 5\n",
      "Mismatch found in epoch 5\n",
      "Mismatch found in epoch 5\n",
      "Mismatch found in epoch 5\n",
      "Mismatch found in epoch 5\n",
      "Mismatch found in epoch 5\n",
      "Mismatch found in epoch 5\n"
     ]
    },
    {
     "name": "stderr",
     "output_type": "stream",
     "text": [
      "Epoch 5/10 [Previous Loss: 2.3018]:  42%|████▏     | 99/235 [00:02<00:02, 51.91it/s]"
     ]
    },
    {
     "name": "stdout",
     "output_type": "stream",
     "text": [
      "Mismatch found in epoch 5\n",
      "Mismatch found in epoch 5\n",
      "Mismatch found in epoch 5\n",
      "Mismatch found in epoch 5\n",
      "Mismatch found in epoch 5\n",
      "Mismatch found in epoch 5\n",
      "Mismatch found in epoch 5\n",
      "Mismatch found in epoch 5\n",
      "Mismatch found in epoch 5\n",
      "Mismatch found in epoch 5\n",
      "Mismatch found in epoch 5\n",
      "Mismatch found in epoch 5\n"
     ]
    },
    {
     "name": "stderr",
     "output_type": "stream",
     "text": [
      "Epoch 5/10 [Previous Loss: 2.3018]:  48%|████▊     | 112/235 [00:02<00:02, 54.42it/s]"
     ]
    },
    {
     "name": "stdout",
     "output_type": "stream",
     "text": [
      "Mismatch found in epoch 5\n",
      "Mismatch found in epoch 5\n",
      "Mismatch found in epoch 5\n",
      "Mismatch found in epoch 5\n",
      "Mismatch found in epoch 5\n",
      "Mismatch found in epoch 5\n",
      "Mismatch found in epoch 5\n",
      "Mismatch found in epoch 5\n",
      "Mismatch found in epoch 5\n",
      "Mismatch found in epoch 5\n",
      "Mismatch found in epoch 5\n"
     ]
    },
    {
     "name": "stderr",
     "output_type": "stream",
     "text": [
      "Epoch 5/10 [Previous Loss: 2.3018]:  50%|█████     | 118/235 [00:02<00:02, 54.67it/s]"
     ]
    },
    {
     "name": "stdout",
     "output_type": "stream",
     "text": [
      "Mismatch found in epoch 5\n",
      "Mismatch found in epoch 5\n",
      "Mismatch found in epoch 5\n",
      "Mismatch found in epoch 5\n",
      "Mismatch found in epoch 5\n",
      "Mismatch found in epoch 5\n",
      "Mismatch found in epoch 5\n"
     ]
    },
    {
     "name": "stderr",
     "output_type": "stream",
     "text": [
      "Epoch 5/10 [Previous Loss: 2.3018]:  55%|█████▍    | 129/235 [00:02<00:02, 44.45it/s]"
     ]
    },
    {
     "name": "stdout",
     "output_type": "stream",
     "text": [
      "Mismatch found in epoch 5\n",
      "Mismatch found in epoch 5\n",
      "Mismatch found in epoch 5\n",
      "Mismatch found in epoch 5\n",
      "Mismatch found in epoch 5\n",
      "Mismatch found in epoch 5\n",
      "Mismatch found in epoch 5\n",
      "Mismatch found in epoch 5\n",
      "Mismatch found in epoch 5\n",
      "Mismatch found in epoch 5\n",
      "Mismatch found in epoch 5\n",
      "Mismatch found in epoch 5\n"
     ]
    },
    {
     "name": "stderr",
     "output_type": "stream",
     "text": [
      "Epoch 5/10 [Previous Loss: 2.3018]:  60%|██████    | 142/235 [00:02<00:01, 50.45it/s]"
     ]
    },
    {
     "name": "stdout",
     "output_type": "stream",
     "text": [
      "Mismatch found in epoch 5\n",
      "Mismatch found in epoch 5\n",
      "Mismatch found in epoch 5\n",
      "Mismatch found in epoch 5\n",
      "Mismatch found in epoch 5\n",
      "Mismatch found in epoch 5\n",
      "Mismatch found in epoch 5\n",
      "Mismatch found in epoch 5\n",
      "Mismatch found in epoch 5\n",
      "Mismatch found in epoch 5\n",
      "Mismatch found in epoch 5\n"
     ]
    },
    {
     "name": "stderr",
     "output_type": "stream",
     "text": [
      "Epoch 5/10 [Previous Loss: 2.3018]:  66%|██████▌   | 154/235 [00:03<00:01, 48.89it/s]"
     ]
    },
    {
     "name": "stdout",
     "output_type": "stream",
     "text": [
      "Mismatch found in epoch 5\n",
      "Mismatch found in epoch 5\n",
      "Mismatch found in epoch 5\n",
      "Mismatch found in epoch 5\n",
      "Mismatch found in epoch 5\n",
      "Mismatch found in epoch 5\n",
      "Mismatch found in epoch 5\n",
      "Mismatch found in epoch 5\n",
      "Mismatch found in epoch 5\n",
      "Mismatch found in epoch 5\n"
     ]
    },
    {
     "name": "stderr",
     "output_type": "stream",
     "text": [
      "Epoch 5/10 [Previous Loss: 2.3018]:  70%|██████▉   | 164/235 [00:03<00:01, 47.27it/s]"
     ]
    },
    {
     "name": "stdout",
     "output_type": "stream",
     "text": [
      "Mismatch found in epoch 5\n",
      "Mismatch found in epoch 5\n",
      "Mismatch found in epoch 5\n",
      "Mismatch found in epoch 5\n",
      "Mismatch found in epoch 5\n",
      "Mismatch found in epoch 5\n",
      "Mismatch found in epoch 5\n",
      "Mismatch found in epoch 5\n",
      "Mismatch found in epoch 5\n",
      "Mismatch found in epoch 5\n"
     ]
    },
    {
     "name": "stderr",
     "output_type": "stream",
     "text": [
      "Epoch 5/10 [Previous Loss: 2.3018]:  74%|███████▍  | 174/235 [00:03<00:01, 46.50it/s]"
     ]
    },
    {
     "name": "stdout",
     "output_type": "stream",
     "text": [
      "Mismatch found in epoch 5\n",
      "Mismatch found in epoch 5\n",
      "Mismatch found in epoch 5\n",
      "Mismatch found in epoch 5\n",
      "Mismatch found in epoch 5\n",
      "Mismatch found in epoch 5\n",
      "Mismatch found in epoch 5\n",
      "Mismatch found in epoch 5\n",
      "Mismatch found in epoch 5\n",
      "Mismatch found in epoch 5\n"
     ]
    },
    {
     "name": "stderr",
     "output_type": "stream",
     "text": [
      "Epoch 5/10 [Previous Loss: 2.3018]:  78%|███████▊  | 184/235 [00:03<00:01, 45.30it/s]"
     ]
    },
    {
     "name": "stdout",
     "output_type": "stream",
     "text": [
      "Mismatch found in epoch 5\n",
      "Mismatch found in epoch 5\n",
      "Mismatch found in epoch 5\n",
      "Mismatch found in epoch 5\n",
      "Mismatch found in epoch 5\n",
      "Mismatch found in epoch 5\n",
      "Mismatch found in epoch 5\n",
      "Mismatch found in epoch 5\n",
      "Mismatch found in epoch 5\n",
      "Mismatch found in epoch 5\n"
     ]
    },
    {
     "name": "stderr",
     "output_type": "stream",
     "text": [
      "Epoch 5/10 [Previous Loss: 2.3018]:  83%|████████▎ | 194/235 [00:04<00:00, 41.88it/s]"
     ]
    },
    {
     "name": "stdout",
     "output_type": "stream",
     "text": [
      "Mismatch found in epoch 5\n",
      "Mismatch found in epoch 5\n",
      "Mismatch found in epoch 5\n",
      "Mismatch found in epoch 5\n",
      "Mismatch found in epoch 5\n",
      "Mismatch found in epoch 5\n",
      "Mismatch found in epoch 5\n",
      "Mismatch found in epoch 5\n"
     ]
    },
    {
     "name": "stderr",
     "output_type": "stream",
     "text": [
      "Epoch 5/10 [Previous Loss: 2.3018]:  85%|████████▍ | 199/235 [00:04<00:00, 40.34it/s]"
     ]
    },
    {
     "name": "stdout",
     "output_type": "stream",
     "text": [
      "Mismatch found in epoch 5\n",
      "Mismatch found in epoch 5\n",
      "Mismatch found in epoch 5\n",
      "Mismatch found in epoch 5\n",
      "Mismatch found in epoch 5\n",
      "Mismatch found in epoch 5\n",
      "Mismatch found in epoch 5\n",
      "Mismatch found in epoch 5\n",
      "Mismatch found in epoch 5\n"
     ]
    },
    {
     "name": "stderr",
     "output_type": "stream",
     "text": [
      "Epoch 5/10 [Previous Loss: 2.3018]:  88%|████████▊ | 207/235 [00:04<00:00, 46.14it/s]\n"
     ]
    },
    {
     "name": "stdout",
     "output_type": "stream",
     "text": [
      "Mismatch found in epoch 5\n",
      "Mismatch found in epoch 5\n",
      "Mismatch found in epoch 5\n",
      "Mismatch found in epoch 5\n"
     ]
    },
    {
     "ename": "KeyboardInterrupt",
     "evalue": "",
     "output_type": "error",
     "traceback": [
      "\u001b[0;31m---------------------------------------------------------------------------\u001b[0m",
      "\u001b[0;31mKeyboardInterrupt\u001b[0m                         Traceback (most recent call last)",
      "Cell \u001b[0;32mIn[4], line 2\u001b[0m\n\u001b[1;32m      1\u001b[0m \u001b[38;5;66;03m# Train Models\u001b[39;00m\n\u001b[0;32m----> 2\u001b[0m \u001b[43mmodel_1\u001b[49m\u001b[38;5;241;43m.\u001b[39;49m\u001b[43mrun\u001b[49m\u001b[43m(\u001b[49m\u001b[43mevaluate_model\u001b[49m\u001b[38;5;241;43m=\u001b[39;49m\u001b[38;5;28;43;01mTrue\u001b[39;49;00m\u001b[43m)\u001b[49m\n",
      "File \u001b[0;32m/media/bdgr/Samsung USB/Projects/MNIST UI/code/architectures.py:68\u001b[0m, in \u001b[0;36mModel_1_Trainer.run\u001b[0;34m(self, evaluate_model)\u001b[0m\n\u001b[1;32m     66\u001b[0m \u001b[38;5;28;01mdef\u001b[39;00m \u001b[38;5;21mrun\u001b[39m(\u001b[38;5;28mself\u001b[39m, evaluate_model\u001b[38;5;241m=\u001b[39m\u001b[38;5;28;01mFalse\u001b[39;00m):\n\u001b[1;32m     67\u001b[0m     \u001b[38;5;66;03m# Run Training Loop\u001b[39;00m\n\u001b[0;32m---> 68\u001b[0m     \u001b[38;5;28;43mself\u001b[39;49m\u001b[38;5;241;43m.\u001b[39;49m\u001b[43mtrain\u001b[49m\u001b[43m(\u001b[49m\u001b[38;5;28;43mself\u001b[39;49m\u001b[38;5;241;43m.\u001b[39;49m\u001b[43mmodel\u001b[49m\u001b[43m,\u001b[49m\u001b[43m \u001b[49m\u001b[38;5;28;43mself\u001b[39;49m\u001b[38;5;241;43m.\u001b[39;49m\u001b[43moptimizer\u001b[49m\u001b[43m,\u001b[49m\u001b[43m \u001b[49m\u001b[38;5;28;43mself\u001b[39;49m\u001b[38;5;241;43m.\u001b[39;49m\u001b[43mloss_fn\u001b[49m\u001b[43m,\u001b[49m\u001b[43m \u001b[49m\u001b[38;5;28;43mself\u001b[39;49m\u001b[38;5;241;43m.\u001b[39;49m\u001b[43mtrain_loader\u001b[49m\u001b[43m,\u001b[49m\u001b[43m \u001b[49m\u001b[38;5;28;43mself\u001b[39;49m\u001b[38;5;241;43m.\u001b[39;49m\u001b[43mepochs\u001b[49m\u001b[43m)\u001b[49m\n\u001b[1;32m     70\u001b[0m     \u001b[38;5;66;03m# Run Test if True\u001b[39;00m\n\u001b[1;32m     71\u001b[0m     \u001b[38;5;28;01mif\u001b[39;00m evaluate_model:\n",
      "File \u001b[0;32m/media/bdgr/Samsung USB/Projects/MNIST UI/code/training.py:30\u001b[0m, in \u001b[0;36mTrainingLoop.train\u001b[0;34m(cls, model, optimizer, loss_fn, train_loader, epochs)\u001b[0m\n\u001b[1;32m     28\u001b[0m \u001b[38;5;28;01mfor\u001b[39;00m epoch \u001b[38;5;129;01min\u001b[39;00m \u001b[38;5;28mrange\u001b[39m(epochs):\n\u001b[1;32m     29\u001b[0m     running_loss \u001b[38;5;241m=\u001b[39m \u001b[38;5;241m0.0\u001b[39m\n\u001b[0;32m---> 30\u001b[0m     \u001b[38;5;28;01mfor\u001b[39;00m images, labels \u001b[38;5;129;01min\u001b[39;00m tqdm\u001b[38;5;241m.\u001b[39mtqdm(train_loader, desc\u001b[38;5;241m=\u001b[39m\u001b[38;5;124mf\u001b[39m\u001b[38;5;124m\"\u001b[39m\u001b[38;5;124mEpoch \u001b[39m\u001b[38;5;132;01m{\u001b[39;00mepoch\u001b[38;5;241m+\u001b[39m\u001b[38;5;241m1\u001b[39m\u001b[38;5;132;01m}\u001b[39;00m\u001b[38;5;124m/\u001b[39m\u001b[38;5;132;01m{\u001b[39;00mepochs\u001b[38;5;132;01m}\u001b[39;00m\u001b[38;5;124m [Previous Loss: \u001b[39m\u001b[38;5;132;01m{\u001b[39;00mtemp_loss\u001b[38;5;250m \u001b[39m\u001b[38;5;28;01mif\u001b[39;00m\u001b[38;5;250m \u001b[39mtemp_loss\u001b[38;5;250m \u001b[39m\u001b[38;5;241m!=\u001b[39m\u001b[38;5;250m \u001b[39m\u001b[38;5;241m0.0\u001b[39m\u001b[38;5;250m \u001b[39m\u001b[38;5;28;01melse\u001b[39;00m\u001b[38;5;250m \u001b[39m\u001b[38;5;124m'\u001b[39m\u001b[38;5;124mN/A\u001b[39m\u001b[38;5;124m'\u001b[39m\u001b[38;5;132;01m}\u001b[39;00m\u001b[38;5;124m]\u001b[39m\u001b[38;5;124m\"\u001b[39m):\n\u001b[1;32m     31\u001b[0m         \u001b[38;5;66;03m# Flatten Image\u001b[39;00m\n\u001b[1;32m     32\u001b[0m         images \u001b[38;5;241m=\u001b[39m images\u001b[38;5;241m.\u001b[39mview(images\u001b[38;5;241m.\u001b[39msize(\u001b[38;5;241m0\u001b[39m), \u001b[38;5;241m-\u001b[39m\u001b[38;5;241m1\u001b[39m)\u001b[38;5;241m.\u001b[39mfloat()\n\u001b[1;32m     34\u001b[0m         \u001b[38;5;66;03m# Zero Parameter Gradients\u001b[39;00m\n",
      "File \u001b[0;32m~/miniconda3/envs/compvis_cpu/lib/python3.10/site-packages/tqdm/std.py:1181\u001b[0m, in \u001b[0;36mtqdm.__iter__\u001b[0;34m(self)\u001b[0m\n\u001b[1;32m   1178\u001b[0m time \u001b[38;5;241m=\u001b[39m \u001b[38;5;28mself\u001b[39m\u001b[38;5;241m.\u001b[39m_time\n\u001b[1;32m   1180\u001b[0m \u001b[38;5;28;01mtry\u001b[39;00m:\n\u001b[0;32m-> 1181\u001b[0m     \u001b[38;5;28;01mfor\u001b[39;00m obj \u001b[38;5;129;01min\u001b[39;00m iterable:\n\u001b[1;32m   1182\u001b[0m         \u001b[38;5;28;01myield\u001b[39;00m obj\n\u001b[1;32m   1183\u001b[0m         \u001b[38;5;66;03m# Update and possibly print the progressbar.\u001b[39;00m\n\u001b[1;32m   1184\u001b[0m         \u001b[38;5;66;03m# Note: does not call self.update(1) for speed optimisation.\u001b[39;00m\n",
      "File \u001b[0;32m~/miniconda3/envs/compvis_cpu/lib/python3.10/site-packages/torch/utils/data/dataloader.py:701\u001b[0m, in \u001b[0;36m_BaseDataLoaderIter.__next__\u001b[0;34m(self)\u001b[0m\n\u001b[1;32m    698\u001b[0m \u001b[38;5;28;01mif\u001b[39;00m \u001b[38;5;28mself\u001b[39m\u001b[38;5;241m.\u001b[39m_sampler_iter \u001b[38;5;129;01mis\u001b[39;00m \u001b[38;5;28;01mNone\u001b[39;00m:\n\u001b[1;32m    699\u001b[0m     \u001b[38;5;66;03m# TODO(https://github.com/pytorch/pytorch/issues/76750)\u001b[39;00m\n\u001b[1;32m    700\u001b[0m     \u001b[38;5;28mself\u001b[39m\u001b[38;5;241m.\u001b[39m_reset()  \u001b[38;5;66;03m# type: ignore[call-arg]\u001b[39;00m\n\u001b[0;32m--> 701\u001b[0m data \u001b[38;5;241m=\u001b[39m \u001b[38;5;28;43mself\u001b[39;49m\u001b[38;5;241;43m.\u001b[39;49m\u001b[43m_next_data\u001b[49m\u001b[43m(\u001b[49m\u001b[43m)\u001b[49m\n\u001b[1;32m    702\u001b[0m \u001b[38;5;28mself\u001b[39m\u001b[38;5;241m.\u001b[39m_num_yielded \u001b[38;5;241m+\u001b[39m\u001b[38;5;241m=\u001b[39m \u001b[38;5;241m1\u001b[39m\n\u001b[1;32m    703\u001b[0m \u001b[38;5;28;01mif\u001b[39;00m (\n\u001b[1;32m    704\u001b[0m     \u001b[38;5;28mself\u001b[39m\u001b[38;5;241m.\u001b[39m_dataset_kind \u001b[38;5;241m==\u001b[39m _DatasetKind\u001b[38;5;241m.\u001b[39mIterable\n\u001b[1;32m    705\u001b[0m     \u001b[38;5;129;01mand\u001b[39;00m \u001b[38;5;28mself\u001b[39m\u001b[38;5;241m.\u001b[39m_IterableDataset_len_called \u001b[38;5;129;01mis\u001b[39;00m \u001b[38;5;129;01mnot\u001b[39;00m \u001b[38;5;28;01mNone\u001b[39;00m\n\u001b[1;32m    706\u001b[0m     \u001b[38;5;129;01mand\u001b[39;00m \u001b[38;5;28mself\u001b[39m\u001b[38;5;241m.\u001b[39m_num_yielded \u001b[38;5;241m>\u001b[39m \u001b[38;5;28mself\u001b[39m\u001b[38;5;241m.\u001b[39m_IterableDataset_len_called\n\u001b[1;32m    707\u001b[0m ):\n",
      "File \u001b[0;32m~/miniconda3/envs/compvis_cpu/lib/python3.10/site-packages/torch/utils/data/dataloader.py:1448\u001b[0m, in \u001b[0;36m_MultiProcessingDataLoaderIter._next_data\u001b[0;34m(self)\u001b[0m\n\u001b[1;32m   1445\u001b[0m     \u001b[38;5;28;01mreturn\u001b[39;00m \u001b[38;5;28mself\u001b[39m\u001b[38;5;241m.\u001b[39m_process_data(data)\n\u001b[1;32m   1447\u001b[0m \u001b[38;5;28;01massert\u001b[39;00m \u001b[38;5;129;01mnot\u001b[39;00m \u001b[38;5;28mself\u001b[39m\u001b[38;5;241m.\u001b[39m_shutdown \u001b[38;5;129;01mand\u001b[39;00m \u001b[38;5;28mself\u001b[39m\u001b[38;5;241m.\u001b[39m_tasks_outstanding \u001b[38;5;241m>\u001b[39m \u001b[38;5;241m0\u001b[39m\n\u001b[0;32m-> 1448\u001b[0m idx, data \u001b[38;5;241m=\u001b[39m \u001b[38;5;28;43mself\u001b[39;49m\u001b[38;5;241;43m.\u001b[39;49m\u001b[43m_get_data\u001b[49m\u001b[43m(\u001b[49m\u001b[43m)\u001b[49m\n\u001b[1;32m   1449\u001b[0m \u001b[38;5;28mself\u001b[39m\u001b[38;5;241m.\u001b[39m_tasks_outstanding \u001b[38;5;241m-\u001b[39m\u001b[38;5;241m=\u001b[39m \u001b[38;5;241m1\u001b[39m\n\u001b[1;32m   1450\u001b[0m \u001b[38;5;28;01mif\u001b[39;00m \u001b[38;5;28mself\u001b[39m\u001b[38;5;241m.\u001b[39m_dataset_kind \u001b[38;5;241m==\u001b[39m _DatasetKind\u001b[38;5;241m.\u001b[39mIterable:\n\u001b[1;32m   1451\u001b[0m     \u001b[38;5;66;03m# Check for _IterableDatasetStopIteration\u001b[39;00m\n",
      "File \u001b[0;32m~/miniconda3/envs/compvis_cpu/lib/python3.10/site-packages/torch/utils/data/dataloader.py:1412\u001b[0m, in \u001b[0;36m_MultiProcessingDataLoaderIter._get_data\u001b[0;34m(self)\u001b[0m\n\u001b[1;32m   1408\u001b[0m     \u001b[38;5;66;03m# In this case, `self._data_queue` is a `queue.Queue`,. But we don't\u001b[39;00m\n\u001b[1;32m   1409\u001b[0m     \u001b[38;5;66;03m# need to call `.task_done()` because we don't use `.join()`.\u001b[39;00m\n\u001b[1;32m   1410\u001b[0m \u001b[38;5;28;01melse\u001b[39;00m:\n\u001b[1;32m   1411\u001b[0m     \u001b[38;5;28;01mwhile\u001b[39;00m \u001b[38;5;28;01mTrue\u001b[39;00m:\n\u001b[0;32m-> 1412\u001b[0m         success, data \u001b[38;5;241m=\u001b[39m \u001b[38;5;28;43mself\u001b[39;49m\u001b[38;5;241;43m.\u001b[39;49m\u001b[43m_try_get_data\u001b[49m\u001b[43m(\u001b[49m\u001b[43m)\u001b[49m\n\u001b[1;32m   1413\u001b[0m         \u001b[38;5;28;01mif\u001b[39;00m success:\n\u001b[1;32m   1414\u001b[0m             \u001b[38;5;28;01mreturn\u001b[39;00m data\n",
      "File \u001b[0;32m~/miniconda3/envs/compvis_cpu/lib/python3.10/site-packages/torch/utils/data/dataloader.py:1243\u001b[0m, in \u001b[0;36m_MultiProcessingDataLoaderIter._try_get_data\u001b[0;34m(self, timeout)\u001b[0m\n\u001b[1;32m   1230\u001b[0m \u001b[38;5;28;01mdef\u001b[39;00m \u001b[38;5;21m_try_get_data\u001b[39m(\u001b[38;5;28mself\u001b[39m, timeout\u001b[38;5;241m=\u001b[39m_utils\u001b[38;5;241m.\u001b[39mMP_STATUS_CHECK_INTERVAL):\n\u001b[1;32m   1231\u001b[0m     \u001b[38;5;66;03m# Tries to fetch data from `self._data_queue` once for a given timeout.\u001b[39;00m\n\u001b[1;32m   1232\u001b[0m     \u001b[38;5;66;03m# This can also be used as inner loop of fetching without timeout, with\u001b[39;00m\n\u001b[0;32m   (...)\u001b[0m\n\u001b[1;32m   1240\u001b[0m     \u001b[38;5;66;03m# Returns a 2-tuple:\u001b[39;00m\n\u001b[1;32m   1241\u001b[0m     \u001b[38;5;66;03m#   (bool: whether successfully get data, any: data if successful else None)\u001b[39;00m\n\u001b[1;32m   1242\u001b[0m     \u001b[38;5;28;01mtry\u001b[39;00m:\n\u001b[0;32m-> 1243\u001b[0m         data \u001b[38;5;241m=\u001b[39m \u001b[38;5;28;43mself\u001b[39;49m\u001b[38;5;241;43m.\u001b[39;49m\u001b[43m_data_queue\u001b[49m\u001b[38;5;241;43m.\u001b[39;49m\u001b[43mget\u001b[49m\u001b[43m(\u001b[49m\u001b[43mtimeout\u001b[49m\u001b[38;5;241;43m=\u001b[39;49m\u001b[43mtimeout\u001b[49m\u001b[43m)\u001b[49m\n\u001b[1;32m   1244\u001b[0m         \u001b[38;5;28;01mreturn\u001b[39;00m (\u001b[38;5;28;01mTrue\u001b[39;00m, data)\n\u001b[1;32m   1245\u001b[0m     \u001b[38;5;28;01mexcept\u001b[39;00m \u001b[38;5;167;01mException\u001b[39;00m \u001b[38;5;28;01mas\u001b[39;00m e:\n\u001b[1;32m   1246\u001b[0m         \u001b[38;5;66;03m# At timeout and error, we manually check whether any worker has\u001b[39;00m\n\u001b[1;32m   1247\u001b[0m         \u001b[38;5;66;03m# failed. Note that this is the only mechanism for Windows to detect\u001b[39;00m\n\u001b[1;32m   1248\u001b[0m         \u001b[38;5;66;03m# worker failures.\u001b[39;00m\n",
      "File \u001b[0;32m~/miniconda3/envs/compvis_cpu/lib/python3.10/multiprocessing/queues.py:122\u001b[0m, in \u001b[0;36mQueue.get\u001b[0;34m(self, block, timeout)\u001b[0m\n\u001b[1;32m    120\u001b[0m         \u001b[38;5;28mself\u001b[39m\u001b[38;5;241m.\u001b[39m_rlock\u001b[38;5;241m.\u001b[39mrelease()\n\u001b[1;32m    121\u001b[0m \u001b[38;5;66;03m# unserialize the data after having released the lock\u001b[39;00m\n\u001b[0;32m--> 122\u001b[0m \u001b[38;5;28;01mreturn\u001b[39;00m \u001b[43m_ForkingPickler\u001b[49m\u001b[38;5;241;43m.\u001b[39;49m\u001b[43mloads\u001b[49m\u001b[43m(\u001b[49m\u001b[43mres\u001b[49m\u001b[43m)\u001b[49m\n",
      "File \u001b[0;32m~/miniconda3/envs/compvis_cpu/lib/python3.10/site-packages/torch/multiprocessing/reductions.py:113\u001b[0m, in \u001b[0;36mrebuild_tensor\u001b[0;34m(cls, storage, metadata)\u001b[0m\n\u001b[1;32m    111\u001b[0m storage_offset, size, stride, requires_grad \u001b[38;5;241m=\u001b[39m metadata\n\u001b[1;32m    112\u001b[0m t \u001b[38;5;241m=\u001b[39m torch\u001b[38;5;241m.\u001b[39m_utils\u001b[38;5;241m.\u001b[39m_rebuild_tensor(storage, storage_offset, size, stride)\n\u001b[0;32m--> 113\u001b[0m \u001b[38;5;28;01mif\u001b[39;00m \u001b[38;5;28mcls\u001b[39m \u001b[38;5;241m==\u001b[39m torch\u001b[38;5;241m.\u001b[39mnn\u001b[38;5;241m.\u001b[39mparameter\u001b[38;5;241m.\u001b[39mParameter:\n\u001b[1;32m    114\u001b[0m     \u001b[38;5;66;03m# we have to pass requires_grad into constructor, rather than set it as an\u001b[39;00m\n\u001b[1;32m    115\u001b[0m     \u001b[38;5;66;03m# attribute later, because it's an important check for Integer Tensors to\u001b[39;00m\n\u001b[1;32m    116\u001b[0m     \u001b[38;5;66;03m# have requires_grad=False (or else they raise an error)\u001b[39;00m\n\u001b[1;32m    117\u001b[0m     t \u001b[38;5;241m=\u001b[39m torch\u001b[38;5;241m.\u001b[39mnn\u001b[38;5;241m.\u001b[39mparameter\u001b[38;5;241m.\u001b[39mParameter(t, requires_grad\u001b[38;5;241m=\u001b[39mrequires_grad)\n\u001b[1;32m    118\u001b[0m \u001b[38;5;28;01melse\u001b[39;00m:\n",
      "\u001b[0;31mKeyboardInterrupt\u001b[0m: "
     ]
    }
   ],
   "source": [
    "# Train Models\n",
    "model_1.run(evaluate_model=True)"
   ]
  },
  {
   "cell_type": "code",
   "execution_count": null,
   "metadata": {},
   "outputs": [],
   "source": [
    "model_1.save_model(model_1.model, model_save)"
   ]
  }
 ],
 "metadata": {
  "kernelspec": {
   "display_name": "compvis_cpu",
   "language": "python",
   "name": "python3"
  },
  "language_info": {
   "codemirror_mode": {
    "name": "ipython",
    "version": 3
   },
   "file_extension": ".py",
   "mimetype": "text/x-python",
   "name": "python",
   "nbconvert_exporter": "python",
   "pygments_lexer": "ipython3",
   "version": "3.10.15"
  }
 },
 "nbformat": 4,
 "nbformat_minor": 2
}
