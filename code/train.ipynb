{
 "cells": [
  {
   "cell_type": "code",
   "execution_count": 11,
   "metadata": {},
   "outputs": [],
   "source": [
    "from dataset import CustomDataset\n",
    "from architectures import Model_1_Trainer, Model_2_Trainer\n",
    "from torch.utils.data import DataLoader"
   ]
  },
  {
   "cell_type": "code",
   "execution_count": 12,
   "metadata": {},
   "outputs": [],
   "source": [
    "# Dataset Locations\n",
    "train_data = \"../data/train-images.idx3-ubyte\"\n",
    "train_label = \"../data/train-labels.idx1-ubyte\"\n",
    "\n",
    "test_data = \"../data/t10k-images.idx3-ubyte\"\n",
    "test_label = \"../data/t10k-labels.idx1-ubyte\""
   ]
  },
  {
   "cell_type": "code",
   "execution_count": 15,
   "metadata": {},
   "outputs": [],
   "source": [
    "# Dataset\n",
    "train_dataset = CustomDataset(train_data, train_label)\n",
    "test_dataset = CustomDataset(test_data, test_label)\n",
    "\n",
    "# Variables\n",
    "batch_size = 128\n",
    "epochs = 10\n",
    "lr = 0.01\n",
    "\n",
    "# Pass Into Model_1_Trainer\n",
    "model_1 = Model_1_Trainer(train_dataset, test_dataset, batch_size=batch_size, epochs=epochs, loss=lr, num_workers=4)\n",
    "model_2 = Model_2_Trainer(train_dataset, test_dataset, batch_size=batch_size, epochs=epochs, loss=lr, num_workers=4)"
   ]
  },
  {
   "cell_type": "code",
   "execution_count": 16,
   "metadata": {},
   "outputs": [
    {
     "name": "stderr",
     "output_type": "stream",
     "text": [
      "Epoch 1/10 [Previous Loss: N/A]: 100%|██████████| 469/469 [00:05<00:00, 91.87it/s] \n",
      "Epoch 2/10 [Previous Loss: 0.3170]: 100%|██████████| 469/469 [00:05<00:00, 92.66it/s] \n",
      "Epoch 3/10 [Previous Loss: 0.1188]: 100%|██████████| 469/469 [00:04<00:00, 100.13it/s]\n",
      "Epoch 4/10 [Previous Loss: 0.0784]: 100%|██████████| 469/469 [00:04<00:00, 96.81it/s] \n",
      "Epoch 5/10 [Previous Loss: 0.0554]: 100%|██████████| 469/469 [00:05<00:00, 80.60it/s]\n",
      "Epoch 6/10 [Previous Loss: 0.0395]: 100%|██████████| 469/469 [00:06<00:00, 70.14it/s]\n",
      "Epoch 7/10 [Previous Loss: 0.0280]: 100%|██████████| 469/469 [00:06<00:00, 75.01it/s]\n",
      "Epoch 8/10 [Previous Loss: 0.0198]: 100%|██████████| 469/469 [00:05<00:00, 79.57it/s]\n",
      "Epoch 9/10 [Previous Loss: 0.0140]: 100%|██████████| 469/469 [00:06<00:00, 76.57it/s]\n",
      "Epoch 10/10 [Previous Loss: 0.0097]: 100%|██████████| 469/469 [00:05<00:00, 84.76it/s] \n"
     ]
    },
    {
     "name": "stdout",
     "output_type": "stream",
     "text": [
      "Test Loss: 0.0876\n",
      "Accuracy: 97.60%\n"
     ]
    },
    {
     "name": "stderr",
     "output_type": "stream",
     "text": [
      "Epoch 1/10 [Previous Loss: N/A]: 100%|██████████| 469/469 [00:05<00:00, 80.81it/s]\n",
      "Epoch 2/10 [Previous Loss: 2.1541]: 100%|██████████| 469/469 [00:05<00:00, 78.37it/s]\n",
      "Epoch 3/10 [Previous Loss: 0.8232]: 100%|██████████| 469/469 [00:06<00:00, 77.24it/s]\n",
      "Epoch 4/10 [Previous Loss: 0.2798]: 100%|██████████| 469/469 [00:06<00:00, 77.78it/s]\n",
      "Epoch 5/10 [Previous Loss: 0.1714]: 100%|██████████| 469/469 [00:06<00:00, 77.71it/s]\n",
      "Epoch 6/10 [Previous Loss: 0.1231]: 100%|██████████| 469/469 [00:05<00:00, 81.30it/s]\n",
      "Epoch 7/10 [Previous Loss: 0.0928]: 100%|██████████| 469/469 [00:05<00:00, 81.11it/s]\n",
      "Epoch 8/10 [Previous Loss: 0.0919]: 100%|██████████| 469/469 [00:05<00:00, 80.87it/s]\n",
      "Epoch 9/10 [Previous Loss: 0.0553]: 100%|██████████| 469/469 [00:05<00:00, 80.77it/s]\n",
      "Epoch 10/10 [Previous Loss: 0.0403]: 100%|██████████| 469/469 [00:05<00:00, 82.20it/s]\n"
     ]
    },
    {
     "name": "stdout",
     "output_type": "stream",
     "text": [
      "Test Loss: 0.1087\n",
      "Accuracy: 97.20%\n"
     ]
    }
   ],
   "source": [
    "# Train Models\n",
    "model_1.run(evaluate_model=True)\n",
    "model_2.run(evaluate_model=True)"
   ]
  }
 ],
 "metadata": {
  "kernelspec": {
   "display_name": "compvis_cpu",
   "language": "python",
   "name": "python3"
  },
  "language_info": {
   "codemirror_mode": {
    "name": "ipython",
    "version": 3
   },
   "file_extension": ".py",
   "mimetype": "text/x-python",
   "name": "python",
   "nbconvert_exporter": "python",
   "pygments_lexer": "ipython3",
   "version": "3.10.15"
  }
 },
 "nbformat": 4,
 "nbformat_minor": 2
}
