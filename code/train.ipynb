{
 "cells": [
  {
   "cell_type": "code",
   "execution_count": 1,
   "metadata": {},
   "outputs": [],
   "source": [
    "from dataset import CustomDataset\n",
    "from architectures import Model_1_Trainer, Model_2_Trainer\n",
    "from torch.utils.data import DataLoader"
   ]
  },
  {
   "cell_type": "code",
   "execution_count": 2,
   "metadata": {},
   "outputs": [],
   "source": [
    "# Dataset Locations\n",
    "train_data = \"../data/train-images.idx3-ubyte\"\n",
    "train_label = \"../data/train-labels.idx1-ubyte\"\n",
    "\n",
    "test_data = \"../data/t10k-images.idx3-ubyte\"\n",
    "test_label = \"../data/t10k-labels.idx1-ubyte\"\n",
    "\n",
    "# Model Save Location\n",
    "model_save = \"../models\""
   ]
  },
  {
   "cell_type": "code",
   "execution_count": 3,
   "metadata": {},
   "outputs": [],
   "source": [
    "# Dataset\n",
    "train_dataset = CustomDataset(train_data, train_label)\n",
    "test_dataset = CustomDataset(test_data, test_label)\n",
    "\n",
    "# Variables\n",
    "batch_size = 128\n",
    "epochs = 10\n",
    "lr = 0.01\n",
    "\n",
    "# Pass Into Model_1_Trainer\n",
    "model_1 = Model_1_Trainer(train_dataset, test_dataset, batch_size=batch_size, epochs=epochs, loss=lr, num_workers=4)\n",
    "# model_2 = Model_2_Trainer(train_dataset, test_dataset, batch_size=batch_size, epochs=epochs, loss=lr, num_workers=4)"
   ]
  },
  {
   "cell_type": "code",
   "execution_count": 4,
   "metadata": {},
   "outputs": [
    {
     "name": "stderr",
     "output_type": "stream",
     "text": [
      "Epoch 1/10 [Previous Loss: N/A]: 100%|██████████| 469/469 [00:05<00:00, 92.07it/s] \n",
      "Epoch 2/10 [Previous Loss: 0.3202]: 100%|██████████| 469/469 [00:06<00:00, 76.19it/s]\n",
      "Epoch 3/10 [Previous Loss: 0.1219]: 100%|██████████| 469/469 [00:05<00:00, 89.99it/s] \n",
      "Epoch 4/10 [Previous Loss: 0.0818]: 100%|██████████| 469/469 [00:04<00:00, 98.72it/s] \n",
      "Epoch 5/10 [Previous Loss: 0.0578]: 100%|██████████| 469/469 [00:04<00:00, 95.94it/s] \n",
      "Epoch 6/10 [Previous Loss: 0.0414]: 100%|██████████| 469/469 [00:07<00:00, 65.58it/s] \n",
      "Epoch 7/10 [Previous Loss: 0.0295]: 100%|██████████| 469/469 [00:06<00:00, 71.10it/s]\n",
      "Epoch 8/10 [Previous Loss: 0.0210]: 100%|██████████| 469/469 [00:06<00:00, 75.14it/s]\n",
      "Epoch 9/10 [Previous Loss: 0.0153]: 100%|██████████| 469/469 [00:04<00:00, 98.33it/s] \n",
      "Epoch 10/10 [Previous Loss: 0.0108]: 100%|██████████| 469/469 [00:04<00:00, 99.35it/s] \n"
     ]
    },
    {
     "name": "stdout",
     "output_type": "stream",
     "text": [
      "Test Loss: 0.0867\n",
      "Accuracy: 97.68%\n"
     ]
    }
   ],
   "source": [
    "# Train Models\n",
    "model_1.run(evaluate_model=True)"
   ]
  },
  {
   "cell_type": "code",
   "execution_count": 7,
   "metadata": {},
   "outputs": [],
   "source": [
    "model_1.save_model(model_1.model, model_save)"
   ]
  }
 ],
 "metadata": {
  "kernelspec": {
   "display_name": "compvis_cpu",
   "language": "python",
   "name": "python3"
  },
  "language_info": {
   "codemirror_mode": {
    "name": "ipython",
    "version": 3
   },
   "file_extension": ".py",
   "mimetype": "text/x-python",
   "name": "python",
   "nbconvert_exporter": "python",
   "pygments_lexer": "ipython3",
   "version": "3.10.15"
  }
 },
 "nbformat": 4,
 "nbformat_minor": 2
}
